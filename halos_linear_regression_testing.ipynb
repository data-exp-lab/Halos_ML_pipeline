{
 "cells": [
  {
   "cell_type": "code",
   "execution_count": 1,
   "metadata": {},
   "outputs": [],
   "source": [
    "import pandas as pd\n",
    "import numpy as np\n",
    "import matplotlib.pyplot as plt\n",
    "import seaborn as sns"
   ]
  },
  {
   "cell_type": "code",
   "execution_count": 2,
   "metadata": {},
   "outputs": [],
   "source": [
    "df = pd.read_csv(\"dark_matter.csv\")"
   ]
  },
  {
   "cell_type": "code",
   "execution_count": 3,
   "metadata": {},
   "outputs": [],
   "source": [
    "df_copy = df.copy()"
   ]
  },
  {
   "cell_type": "code",
   "execution_count": 4,
   "metadata": {},
   "outputs": [],
   "source": [
    "df = df.drop(df.index[8474])\n",
    "df = df.drop(df.index[6815])"
   ]
  },
  {
   "cell_type": "code",
   "execution_count": 5,
   "metadata": {},
   "outputs": [],
   "source": [
    "df_copy = df_copy.drop(df.index[8474])\n",
    "df_copy = df_copy.drop(df.index[6815])"
   ]
  },
  {
   "cell_type": "code",
   "execution_count": 6,
   "metadata": {},
   "outputs": [],
   "source": [
    "x = df.loc[:, ~df.columns.isin(['dispersion'])] #Creating dependent variables dataframe\n",
    "y = df.loc[:, df.columns.isin(['dispersion'])]  #Creating predictor variable dataframe"
   ]
  },
  {
   "cell_type": "code",
   "execution_count": 7,
   "metadata": {},
   "outputs": [],
   "source": [
    "x_log = x.copy()"
   ]
  },
  {
   "cell_type": "code",
   "execution_count": 8,
   "metadata": {},
   "outputs": [],
   "source": [
    "x_log = x.transform(lambda a: np.log(a))"
   ]
  },
  {
   "cell_type": "code",
   "execution_count": 9,
   "metadata": {},
   "outputs": [],
   "source": [
    "from sklearn.preprocessing import RobustScaler\n",
    "scaler = RobustScaler()\n",
    "x_log[x.columns] = scaler.fit_transform(x_log[x.columns])"
   ]
  },
  {
   "cell_type": "code",
   "execution_count": 10,
   "metadata": {},
   "outputs": [
    {
     "data": {
      "text/html": [
       "<div>\n",
       "<style scoped>\n",
       "    .dataframe tbody tr th:only-of-type {\n",
       "        vertical-align: middle;\n",
       "    }\n",
       "\n",
       "    .dataframe tbody tr th {\n",
       "        vertical-align: top;\n",
       "    }\n",
       "\n",
       "    .dataframe thead th {\n",
       "        text-align: right;\n",
       "    }\n",
       "</style>\n",
       "<table border=\"1\" class=\"dataframe\">\n",
       "  <thead>\n",
       "    <tr style=\"text-align: right;\">\n",
       "      <th></th>\n",
       "      <th>mass</th>\n",
       "      <th>kinetic_energy</th>\n",
       "      <th>mean_radius</th>\n",
       "      <th>Group_M_Crit200</th>\n",
       "      <th>Group_M_Crit500</th>\n",
       "      <th>Group_M_Mean200</th>\n",
       "      <th>Group_M_TopHat200</th>\n",
       "      <th>Group_R_Crit200</th>\n",
       "      <th>Group_R_Crit500</th>\n",
       "      <th>Group_R_Mean200</th>\n",
       "      <th>Group_R_TopHat200</th>\n",
       "    </tr>\n",
       "  </thead>\n",
       "  <tbody>\n",
       "    <tr>\n",
       "      <th>0</th>\n",
       "      <td>21.174025</td>\n",
       "      <td>8.344036</td>\n",
       "      <td>0.194935</td>\n",
       "      <td>5.705371</td>\n",
       "      <td>5.598144</td>\n",
       "      <td>5.825421</td>\n",
       "      <td>5.826019</td>\n",
       "      <td>5.705295</td>\n",
       "      <td>5.597937</td>\n",
       "      <td>5.825257</td>\n",
       "      <td>5.826462</td>\n",
       "    </tr>\n",
       "    <tr>\n",
       "      <th>1</th>\n",
       "      <td>9.686603</td>\n",
       "      <td>2.983820</td>\n",
       "      <td>0.085244</td>\n",
       "      <td>5.660482</td>\n",
       "      <td>5.068873</td>\n",
       "      <td>5.824574</td>\n",
       "      <td>5.868417</td>\n",
       "      <td>5.660391</td>\n",
       "      <td>5.068701</td>\n",
       "      <td>5.824390</td>\n",
       "      <td>5.868884</td>\n",
       "    </tr>\n",
       "    <tr>\n",
       "      <th>2</th>\n",
       "      <td>8.289086</td>\n",
       "      <td>3.366994</td>\n",
       "      <td>0.209044</td>\n",
       "      <td>5.657459</td>\n",
       "      <td>5.627020</td>\n",
       "      <td>5.674491</td>\n",
       "      <td>5.715509</td>\n",
       "      <td>5.657300</td>\n",
       "      <td>5.626899</td>\n",
       "      <td>5.674334</td>\n",
       "      <td>5.715843</td>\n",
       "    </tr>\n",
       "    <tr>\n",
       "      <th>3</th>\n",
       "      <td>7.465517</td>\n",
       "      <td>3.218538</td>\n",
       "      <td>0.746296</td>\n",
       "      <td>5.009451</td>\n",
       "      <td>4.930719</td>\n",
       "      <td>5.105941</td>\n",
       "      <td>5.072324</td>\n",
       "      <td>5.009309</td>\n",
       "      <td>4.930506</td>\n",
       "      <td>5.105816</td>\n",
       "      <td>5.072615</td>\n",
       "    </tr>\n",
       "    <tr>\n",
       "      <th>4</th>\n",
       "      <td>6.725421</td>\n",
       "      <td>2.244814</td>\n",
       "      <td>0.083188</td>\n",
       "      <td>5.417539</td>\n",
       "      <td>5.149648</td>\n",
       "      <td>5.404342</td>\n",
       "      <td>5.468534</td>\n",
       "      <td>5.417470</td>\n",
       "      <td>5.149408</td>\n",
       "      <td>5.404188</td>\n",
       "      <td>5.468921</td>\n",
       "    </tr>\n",
       "  </tbody>\n",
       "</table>\n",
       "</div>"
      ],
      "text/plain": [
       "        mass  kinetic_energy  mean_radius  Group_M_Crit200  Group_M_Crit500  \\\n",
       "0  21.174025        8.344036     0.194935         5.705371         5.598144   \n",
       "1   9.686603        2.983820     0.085244         5.660482         5.068873   \n",
       "2   8.289086        3.366994     0.209044         5.657459         5.627020   \n",
       "3   7.465517        3.218538     0.746296         5.009451         4.930719   \n",
       "4   6.725421        2.244814     0.083188         5.417539         5.149648   \n",
       "\n",
       "   Group_M_Mean200  Group_M_TopHat200  Group_R_Crit200  Group_R_Crit500  \\\n",
       "0         5.825421           5.826019         5.705295         5.597937   \n",
       "1         5.824574           5.868417         5.660391         5.068701   \n",
       "2         5.674491           5.715509         5.657300         5.626899   \n",
       "3         5.105941           5.072324         5.009309         4.930506   \n",
       "4         5.404342           5.468534         5.417470         5.149408   \n",
       "\n",
       "   Group_R_Mean200  Group_R_TopHat200  \n",
       "0         5.825257           5.826462  \n",
       "1         5.824390           5.868884  \n",
       "2         5.674334           5.715843  \n",
       "3         5.105816           5.072615  \n",
       "4         5.404188           5.468921  "
      ]
     },
     "execution_count": 10,
     "metadata": {},
     "output_type": "execute_result"
    }
   ],
   "source": [
    "x_log.head()"
   ]
  },
  {
   "cell_type": "code",
   "execution_count": 11,
   "metadata": {},
   "outputs": [],
   "source": [
    "import statsmodels.api as sm\n",
    "import statsmodels.formula.api as smf\n",
    "import sklearn.linear_model as lm\n",
    "from sklearn import datasets, linear_model, model_selection\n",
    "import sklearn\n",
    "from sklearn.model_selection import train_test_split\n",
    "from sklearn.linear_model import LinearRegression, Lasso, Ridge\n",
    "from sklearn.model_selection import cross_val_score\n",
    "from sklearn.model_selection import RepeatedKFold\n",
    "from statsmodels.stats.outliers_influence import variance_inflation_factor\n",
    "from sklearn.metrics import mean_squared_error, r2_score"
   ]
  },
  {
   "cell_type": "code",
   "execution_count": 12,
   "metadata": {},
   "outputs": [
    {
     "data": {
      "text/html": [
       "<div>\n",
       "<style scoped>\n",
       "    .dataframe tbody tr th:only-of-type {\n",
       "        vertical-align: middle;\n",
       "    }\n",
       "\n",
       "    .dataframe tbody tr th {\n",
       "        vertical-align: top;\n",
       "    }\n",
       "\n",
       "    .dataframe thead th {\n",
       "        text-align: right;\n",
       "    }\n",
       "</style>\n",
       "<table border=\"1\" class=\"dataframe\">\n",
       "  <thead>\n",
       "    <tr style=\"text-align: right;\">\n",
       "      <th></th>\n",
       "      <th>dispersion</th>\n",
       "    </tr>\n",
       "  </thead>\n",
       "  <tbody>\n",
       "    <tr>\n",
       "      <th>count</th>\n",
       "      <td>9997.000000</td>\n",
       "    </tr>\n",
       "    <tr>\n",
       "      <th>mean</th>\n",
       "      <td>74.139024</td>\n",
       "    </tr>\n",
       "    <tr>\n",
       "      <th>std</th>\n",
       "      <td>58.848546</td>\n",
       "    </tr>\n",
       "    <tr>\n",
       "      <th>min</th>\n",
       "      <td>0.000000</td>\n",
       "    </tr>\n",
       "    <tr>\n",
       "      <th>25%</th>\n",
       "      <td>55.170160</td>\n",
       "    </tr>\n",
       "    <tr>\n",
       "      <th>50%</th>\n",
       "      <td>61.293182</td>\n",
       "    </tr>\n",
       "    <tr>\n",
       "      <th>75%</th>\n",
       "      <td>70.379020</td>\n",
       "    </tr>\n",
       "    <tr>\n",
       "      <th>max</th>\n",
       "      <td>1039.325700</td>\n",
       "    </tr>\n",
       "  </tbody>\n",
       "</table>\n",
       "</div>"
      ],
      "text/plain": [
       "        dispersion\n",
       "count  9997.000000\n",
       "mean     74.139024\n",
       "std      58.848546\n",
       "min       0.000000\n",
       "25%      55.170160\n",
       "50%      61.293182\n",
       "75%      70.379020\n",
       "max    1039.325700"
      ]
     },
     "execution_count": 12,
     "metadata": {},
     "output_type": "execute_result"
    }
   ],
   "source": [
    "y.describe()"
   ]
  },
  {
   "cell_type": "markdown",
   "metadata": {},
   "source": [
    "# First Linear Regression Iteration with all the data"
   ]
  },
  {
   "cell_type": "code",
   "execution_count": 13,
   "metadata": {},
   "outputs": [],
   "source": [
    "X_lr = x_log.copy()"
   ]
  },
  {
   "cell_type": "code",
   "execution_count": 14,
   "metadata": {},
   "outputs": [],
   "source": [
    "X_lr_train, X_lr_test, y_lr_train, y_lr_test = sklearn.model_selection.train_test_split(X_lr, y, test_size = 0.20, random_state = 5)"
   ]
  },
  {
   "cell_type": "code",
   "execution_count": 15,
   "metadata": {},
   "outputs": [
    {
     "data": {
      "text/plain": [
       "((7997, 11), (2000, 11), (7997, 1), (2000, 1))"
      ]
     },
     "execution_count": 15,
     "metadata": {},
     "output_type": "execute_result"
    }
   ],
   "source": [
    "X_lr_train.shape, X_lr_test.shape, y_lr_train.shape, y_lr_test.shape"
   ]
  },
  {
   "cell_type": "code",
   "execution_count": 16,
   "metadata": {},
   "outputs": [
    {
     "name": "stdout",
     "output_type": "stream",
     "text": [
      "                            OLS Regression Results                            \n",
      "==============================================================================\n",
      "Dep. Variable:             dispersion   R-squared:                       0.272\n",
      "Model:                            OLS   Adj. R-squared:                  0.271\n",
      "Method:                 Least Squares   F-statistic:                     271.8\n",
      "Date:                Thu, 30 Jun 2022   Prob (F-statistic):               0.00\n",
      "Time:                        15:20:20   Log-Likelihood:                -42699.\n",
      "No. Observations:                7997   AIC:                         8.542e+04\n",
      "Df Residuals:                    7985   BIC:                         8.551e+04\n",
      "Df Model:                          11                                         \n",
      "Covariance Type:            nonrobust                                         \n",
      "=====================================================================================\n",
      "                        coef    std err          t      P>|t|      [0.025      0.975]\n",
      "-------------------------------------------------------------------------------------\n",
      "const                73.6143      0.884     83.277      0.000      71.881      75.347\n",
      "mass                 24.2407      1.422     17.046      0.000      21.453      27.028\n",
      "kinetic_energy       22.3197      0.810     27.565      0.000      20.732      23.907\n",
      "mean_radius          20.3597      0.660     30.867      0.000      19.067      21.653\n",
      "Group_M_Crit200    6039.7149   9179.845      0.658      0.511    -1.2e+04     2.4e+04\n",
      "Group_M_Crit500   -1.433e+04   1.05e+04     -1.365      0.172   -3.49e+04    6246.240\n",
      "Group_M_Mean200   -1.015e+04   1.34e+04     -0.758      0.448   -3.64e+04    1.61e+04\n",
      "Group_M_TopHat200  7297.6681   1.05e+04      0.697      0.486   -1.32e+04    2.78e+04\n",
      "Group_R_Crit200   -6033.2065   9179.977     -0.657      0.511    -2.4e+04     1.2e+04\n",
      "Group_R_Crit500    1.432e+04   1.05e+04      1.365      0.172   -6253.087    3.49e+04\n",
      "Group_R_Mean200    1.011e+04   1.34e+04      0.755      0.450   -1.61e+04    3.63e+04\n",
      "Group_R_TopHat200 -7271.9822   1.05e+04     -0.694      0.488   -2.78e+04    1.33e+04\n",
      "==============================================================================\n",
      "Omnibus:                     8917.900   Durbin-Watson:                   1.967\n",
      "Prob(Omnibus):                  0.000   Jarque-Bera (JB):          1032892.475\n",
      "Skew:                           5.659   Prob(JB):                         0.00\n",
      "Kurtosis:                      57.514   Cond. No.                     8.95e+04\n",
      "==============================================================================\n",
      "\n",
      "Notes:\n",
      "[1] Standard Errors assume that the covariance matrix of the errors is correctly specified.\n",
      "[2] The condition number is large, 8.95e+04. This might indicate that there are\n",
      "strong multicollinearity or other numerical problems.\n"
     ]
    }
   ],
   "source": [
    "#Model statistics\n",
    "#Must add constant for y-intercept\n",
    "model = sm.OLS(y_lr_train, sm.add_constant(X_lr_train)).fit()\n",
    "Y_pred = model.predict(sm.add_constant(X_lr_test))\n",
    "print_model = model.summary()\n",
    "print(print_model)"
   ]
  },
  {
   "cell_type": "code",
   "execution_count": 17,
   "metadata": {},
   "outputs": [
    {
     "name": "stderr",
     "output_type": "stream",
     "text": [
      "/Users/parth/opt/anaconda3/envs/env/lib/python3.6/site-packages/seaborn/distributions.py:2619: FutureWarning: `distplot` is a deprecated function and will be removed in a future version. Please adapt your code to use either `displot` (a figure-level function with similar flexibility) or `histplot` (an axes-level function for histograms).\n",
      "  warnings.warn(msg, FutureWarning)\n"
     ]
    },
    {
     "data": {
      "image/png": "[encoded data removed]",
      "text/plain": [
       "<Figure size 432x288 with 1 Axes>"
      ]
     },
     "metadata": {
      "needs_background": "light"
     },
     "output_type": "display_data"
    }
   ],
   "source": [
    "from scipy import stats\n",
    "sns.distplot(model.resid, fit=stats.norm);"
   ]
  },
  {
   "cell_type": "code",
   "execution_count": 20,
   "metadata": {},
   "outputs": [
    {
     "data": {
      "text/plain": [
       "<matplotlib.collections.PathCollection at 0x7fb4a9609b70>"
      ]
     },
     "execution_count": 20,
     "metadata": {},
     "output_type": "execute_result"
    },
    {
     "data": {
      "image/png": "[encoded data removed]",
      "text/plain": [
       "<Figure size 720x576 with 1 Axes>"
      ]
     },
     "metadata": {
      "needs_background": "light"
     },
     "output_type": "display_data"
    }
   ],
   "source": [
    "fig = plt.figure(figsize=(10,8))\n",
    "ax = fig.add_subplot(121)\n",
    "ax.set_xlabel(\"Y_Test\")\n",
    "ax.set_ylabel(\"Predicted value\")\n",
    "ax.set_title(\"Actual Values vs Predicted Values\")\n",
    "plt.scatter(y_lr_test, Y_pred)"
   ]
  },
  {
   "cell_type": "code",
   "execution_count": 21,
   "metadata": {},
   "outputs": [],
   "source": [
    "y_90 = y.copy()"
   ]
  },
  {
   "cell_type": "code",
   "execution_count": 22,
   "metadata": {},
   "outputs": [
    {
     "data": {
      "text/html": [
       "<div>\n",
       "<style scoped>\n",
       "    .dataframe tbody tr th:only-of-type {\n",
       "        vertical-align: middle;\n",
       "    }\n",
       "\n",
       "    .dataframe tbody tr th {\n",
       "        vertical-align: top;\n",
       "    }\n",
       "\n",
       "    .dataframe thead th {\n",
       "        text-align: right;\n",
       "    }\n",
       "</style>\n",
       "<table border=\"1\" class=\"dataframe\">\n",
       "  <thead>\n",
       "    <tr style=\"text-align: right;\">\n",
       "      <th></th>\n",
       "      <th>dispersion</th>\n",
       "    </tr>\n",
       "  </thead>\n",
       "  <tbody>\n",
       "    <tr>\n",
       "      <th>count</th>\n",
       "      <td>9997.000000</td>\n",
       "    </tr>\n",
       "    <tr>\n",
       "      <th>mean</th>\n",
       "      <td>74.139024</td>\n",
       "    </tr>\n",
       "    <tr>\n",
       "      <th>std</th>\n",
       "      <td>58.848546</td>\n",
       "    </tr>\n",
       "    <tr>\n",
       "      <th>min</th>\n",
       "      <td>0.000000</td>\n",
       "    </tr>\n",
       "    <tr>\n",
       "      <th>25%</th>\n",
       "      <td>55.170160</td>\n",
       "    </tr>\n",
       "    <tr>\n",
       "      <th>50%</th>\n",
       "      <td>61.293182</td>\n",
       "    </tr>\n",
       "    <tr>\n",
       "      <th>75%</th>\n",
       "      <td>70.379020</td>\n",
       "    </tr>\n",
       "    <tr>\n",
       "      <th>max</th>\n",
       "      <td>1039.325700</td>\n",
       "    </tr>\n",
       "  </tbody>\n",
       "</table>\n",
       "</div>"
      ],
      "text/plain": [
       "        dispersion\n",
       "count  9997.000000\n",
       "mean     74.139024\n",
       "std      58.848546\n",
       "min       0.000000\n",
       "25%      55.170160\n",
       "50%      61.293182\n",
       "75%      70.379020\n",
       "max    1039.325700"
      ]
     },
     "execution_count": 22,
     "metadata": {},
     "output_type": "execute_result"
    }
   ],
   "source": [
    "y.describe()"
   ]
  },
  {
   "cell_type": "markdown",
   "metadata": {},
   "source": [
    "#### We will now perform regression for values of 'dispersion' below 90 and above 90"
   ]
  },
  {
   "cell_type": "code",
   "execution_count": 23,
   "metadata": {},
   "outputs": [],
   "source": [
    "df_90 = df.copy()"
   ]
  },
  {
   "cell_type": "code",
   "execution_count": 24,
   "metadata": {},
   "outputs": [],
   "source": [
    "y_90 = y_90[y_90['dispersion'].between(0.00, 90.00)]"
   ]
  },
  {
   "cell_type": "code",
   "execution_count": 25,
   "metadata": {},
   "outputs": [
    {
     "data": {
      "text/html": [
       "<div>\n",
       "<style scoped>\n",
       "    .dataframe tbody tr th:only-of-type {\n",
       "        vertical-align: middle;\n",
       "    }\n",
       "\n",
       "    .dataframe tbody tr th {\n",
       "        vertical-align: top;\n",
       "    }\n",
       "\n",
       "    .dataframe thead th {\n",
       "        text-align: right;\n",
       "    }\n",
       "</style>\n",
       "<table border=\"1\" class=\"dataframe\">\n",
       "  <thead>\n",
       "    <tr style=\"text-align: right;\">\n",
       "      <th></th>\n",
       "      <th>dispersion</th>\n",
       "    </tr>\n",
       "  </thead>\n",
       "  <tbody>\n",
       "    <tr>\n",
       "      <th>count</th>\n",
       "      <td>9043.000000</td>\n",
       "    </tr>\n",
       "    <tr>\n",
       "      <th>mean</th>\n",
       "      <td>61.382718</td>\n",
       "    </tr>\n",
       "    <tr>\n",
       "      <th>std</th>\n",
       "      <td>9.309829</td>\n",
       "    </tr>\n",
       "    <tr>\n",
       "      <th>min</th>\n",
       "      <td>0.000000</td>\n",
       "    </tr>\n",
       "    <tr>\n",
       "      <th>25%</th>\n",
       "      <td>54.607731</td>\n",
       "    </tr>\n",
       "    <tr>\n",
       "      <th>50%</th>\n",
       "      <td>60.022600</td>\n",
       "    </tr>\n",
       "    <tr>\n",
       "      <th>75%</th>\n",
       "      <td>66.973970</td>\n",
       "    </tr>\n",
       "    <tr>\n",
       "      <th>max</th>\n",
       "      <td>89.970380</td>\n",
       "    </tr>\n",
       "  </tbody>\n",
       "</table>\n",
       "</div>"
      ],
      "text/plain": [
       "        dispersion\n",
       "count  9043.000000\n",
       "mean     61.382718\n",
       "std       9.309829\n",
       "min       0.000000\n",
       "25%      54.607731\n",
       "50%      60.022600\n",
       "75%      66.973970\n",
       "max      89.970380"
      ]
     },
     "execution_count": 25,
     "metadata": {},
     "output_type": "execute_result"
    }
   ],
   "source": [
    "y_90.describe()"
   ]
  },
  {
   "cell_type": "code",
   "execution_count": 26,
   "metadata": {},
   "outputs": [],
   "source": [
    "df_90 = df_90[df_90['dispersion'].between(0.00, 90.00)]"
   ]
  },
  {
   "cell_type": "code",
   "execution_count": 27,
   "metadata": {},
   "outputs": [
    {
     "data": {
      "text/html": [
       "<div>\n",
       "<style scoped>\n",
       "    .dataframe tbody tr th:only-of-type {\n",
       "        vertical-align: middle;\n",
       "    }\n",
       "\n",
       "    .dataframe tbody tr th {\n",
       "        vertical-align: top;\n",
       "    }\n",
       "\n",
       "    .dataframe thead th {\n",
       "        text-align: right;\n",
       "    }\n",
       "</style>\n",
       "<table border=\"1\" class=\"dataframe\">\n",
       "  <thead>\n",
       "    <tr style=\"text-align: right;\">\n",
       "      <th></th>\n",
       "      <th>mass</th>\n",
       "      <th>dispersion</th>\n",
       "      <th>kinetic_energy</th>\n",
       "      <th>mean_radius</th>\n",
       "      <th>Group_M_Crit200</th>\n",
       "      <th>Group_M_Crit500</th>\n",
       "      <th>Group_M_Mean200</th>\n",
       "      <th>Group_M_TopHat200</th>\n",
       "      <th>Group_R_Crit200</th>\n",
       "      <th>Group_R_Crit500</th>\n",
       "      <th>Group_R_Mean200</th>\n",
       "      <th>Group_R_TopHat200</th>\n",
       "    </tr>\n",
       "  </thead>\n",
       "  <tbody>\n",
       "    <tr>\n",
       "      <th>count</th>\n",
       "      <td>9043.000000</td>\n",
       "      <td>9043.000000</td>\n",
       "      <td>9.043000e+03</td>\n",
       "      <td>9043.000000</td>\n",
       "      <td>9043.000000</td>\n",
       "      <td>9043.000000</td>\n",
       "      <td>9043.000000</td>\n",
       "      <td>9043.000000</td>\n",
       "      <td>9043.000000</td>\n",
       "      <td>9043.000000</td>\n",
       "      <td>9043.000000</td>\n",
       "      <td>9043.000000</td>\n",
       "    </tr>\n",
       "    <tr>\n",
       "      <th>mean</th>\n",
       "      <td>146.462789</td>\n",
       "      <td>61.382718</td>\n",
       "      <td>7.210497e+06</td>\n",
       "      <td>48.243651</td>\n",
       "      <td>46.411238</td>\n",
       "      <td>35.690916</td>\n",
       "      <td>64.525753</td>\n",
       "      <td>55.989113</td>\n",
       "      <td>108.756913</td>\n",
       "      <td>74.115512</td>\n",
       "      <td>185.055104</td>\n",
       "      <td>146.165356</td>\n",
       "    </tr>\n",
       "    <tr>\n",
       "      <th>std</th>\n",
       "      <td>49.981224</td>\n",
       "      <td>9.309829</td>\n",
       "      <td>7.948301e+06</td>\n",
       "      <td>9.514413</td>\n",
       "      <td>88.351517</td>\n",
       "      <td>64.314345</td>\n",
       "      <td>131.350012</td>\n",
       "      <td>110.424604</td>\n",
       "      <td>41.180151</td>\n",
       "      <td>27.154981</td>\n",
       "      <td>72.708482</td>\n",
       "      <td>56.609906</td>\n",
       "    </tr>\n",
       "    <tr>\n",
       "      <th>min</th>\n",
       "      <td>1.000000</td>\n",
       "      <td>0.000000</td>\n",
       "      <td>1.475066e+05</td>\n",
       "      <td>23.160006</td>\n",
       "      <td>1.576799</td>\n",
       "      <td>0.931173</td>\n",
       "      <td>3.018168</td>\n",
       "      <td>2.109668</td>\n",
       "      <td>40.782790</td>\n",
       "      <td>25.210709</td>\n",
       "      <td>78.098114</td>\n",
       "      <td>57.126507</td>\n",
       "    </tr>\n",
       "    <tr>\n",
       "      <th>25%</th>\n",
       "      <td>112.000000</td>\n",
       "      <td>54.607731</td>\n",
       "      <td>2.423016e+06</td>\n",
       "      <td>42.750617</td>\n",
       "      <td>12.829749</td>\n",
       "      <td>10.377800</td>\n",
       "      <td>16.728206</td>\n",
       "      <td>14.907875</td>\n",
       "      <td>82.026480</td>\n",
       "      <td>56.312062</td>\n",
       "      <td>138.207560</td>\n",
       "      <td>109.618630</td>\n",
       "    </tr>\n",
       "    <tr>\n",
       "      <th>50%</th>\n",
       "      <td>133.000000</td>\n",
       "      <td>60.022600</td>\n",
       "      <td>4.789329e+06</td>\n",
       "      <td>46.747287</td>\n",
       "      <td>20.224848</td>\n",
       "      <td>16.378328</td>\n",
       "      <td>26.418990</td>\n",
       "      <td>23.430400</td>\n",
       "      <td>95.465800</td>\n",
       "      <td>65.563780</td>\n",
       "      <td>160.944370</td>\n",
       "      <td>127.449295</td>\n",
       "    </tr>\n",
       "    <tr>\n",
       "      <th>75%</th>\n",
       "      <td>166.000000</td>\n",
       "      <td>66.973970</td>\n",
       "      <td>9.109586e+06</td>\n",
       "      <td>51.849725</td>\n",
       "      <td>41.125671</td>\n",
       "      <td>32.741615</td>\n",
       "      <td>54.594565</td>\n",
       "      <td>48.050594</td>\n",
       "      <td>120.944577</td>\n",
       "      <td>82.593955</td>\n",
       "      <td>205.003515</td>\n",
       "      <td>161.922240</td>\n",
       "    </tr>\n",
       "    <tr>\n",
       "      <th>max</th>\n",
       "      <td>479.000000</td>\n",
       "      <td>89.970380</td>\n",
       "      <td>1.510843e+08</td>\n",
       "      <td>467.233497</td>\n",
       "      <td>1727.055700</td>\n",
       "      <td>1283.849500</td>\n",
       "      <td>2242.356700</td>\n",
       "      <td>2024.290600</td>\n",
       "      <td>420.391480</td>\n",
       "      <td>280.601930</td>\n",
       "      <td>707.306640</td>\n",
       "      <td>563.435670</td>\n",
       "    </tr>\n",
       "  </tbody>\n",
       "</table>\n",
       "</div>"
      ],
      "text/plain": [
       "              mass   dispersion  kinetic_energy  mean_radius  Group_M_Crit200  \\\n",
       "count  9043.000000  9043.000000    9.043000e+03  9043.000000      9043.000000   \n",
       "mean    146.462789    61.382718    7.210497e+06    48.243651        46.411238   \n",
       "std      49.981224     9.309829    7.948301e+06     9.514413        88.351517   \n",
       "min       1.000000     0.000000    1.475066e+05    23.160006         1.576799   \n",
       "25%     112.000000    54.607731    2.423016e+06    42.750617        12.829749   \n",
       "50%     133.000000    60.022600    4.789329e+06    46.747287        20.224848   \n",
       "75%     166.000000    66.973970    9.109586e+06    51.849725        41.125671   \n",
       "max     479.000000    89.970380    1.510843e+08   467.233497      1727.055700   \n",
       "\n",
       "       Group_M_Crit500  Group_M_Mean200  Group_M_TopHat200  Group_R_Crit200  \\\n",
       "count      9043.000000      9043.000000        9043.000000      9043.000000   \n",
       "mean         35.690916        64.525753          55.989113       108.756913   \n",
       "std          64.314345       131.350012         110.424604        41.180151   \n",
       "min           0.931173         3.018168           2.109668        40.782790   \n",
       "25%          10.377800        16.728206          14.907875        82.026480   \n",
       "50%          16.378328        26.418990          23.430400        95.465800   \n",
       "75%          32.741615        54.594565          48.050594       120.944577   \n",
       "max        1283.849500      2242.356700        2024.290600       420.391480   \n",
       "\n",
       "       Group_R_Crit500  Group_R_Mean200  Group_R_TopHat200  \n",
       "count      9043.000000      9043.000000        9043.000000  \n",
       "mean         74.115512       185.055104         146.165356  \n",
       "std          27.154981        72.708482          56.609906  \n",
       "min          25.210709        78.098114          57.126507  \n",
       "25%          56.312062       138.207560         109.618630  \n",
       "50%          65.563780       160.944370         127.449295  \n",
       "75%          82.593955       205.003515         161.922240  \n",
       "max         280.601930       707.306640         563.435670  "
      ]
     },
     "execution_count": 27,
     "metadata": {},
     "output_type": "execute_result"
    }
   ],
   "source": [
    "df_90.describe()"
   ]
  },
  {
   "cell_type": "code",
   "execution_count": 28,
   "metadata": {},
   "outputs": [],
   "source": [
    "x90 = df_90.loc[:, ~df_90.columns.isin(['dispersion'])] #Creating dependent variables dataframe\n",
    "y90 = df_90.loc[:, df_90.columns.isin(['dispersion'])]  #Creating predictor variable dataframe"
   ]
  },
  {
   "cell_type": "code",
   "execution_count": 29,
   "metadata": {},
   "outputs": [
    {
     "data": {
      "text/plain": [
       "(9043, 11)"
      ]
     },
     "execution_count": 29,
     "metadata": {},
     "output_type": "execute_result"
    }
   ],
   "source": [
    "x90.shape"
   ]
  },
  {
   "cell_type": "code",
   "execution_count": 30,
   "metadata": {},
   "outputs": [],
   "source": [
    "x90_log = x90.transform(lambda a: np.log(a))"
   ]
  },
  {
   "cell_type": "code",
   "execution_count": 31,
   "metadata": {},
   "outputs": [],
   "source": [
    "X90=x90_log\n",
    "y90=y90\n",
    "\n",
    "X_train, X_test, y_train, y_test = sklearn.model_selection.train_test_split(X90, y90, test_size = 0.20, random_state = 5)"
   ]
  },
  {
   "cell_type": "code",
   "execution_count": 32,
   "metadata": {},
   "outputs": [
    {
     "name": "stdout",
     "output_type": "stream",
     "text": [
      "                            OLS Regression Results                            \n",
      "==============================================================================\n",
      "Dep. Variable:             dispersion   R-squared:                       0.604\n",
      "Model:                            OLS   Adj. R-squared:                  0.604\n",
      "Method:                 Least Squares   F-statistic:                     1002.\n",
      "Date:                Thu, 30 Jun 2022   Prob (F-statistic):               0.00\n",
      "Time:                        15:54:26   Log-Likelihood:                -23110.\n",
      "No. Observations:                7234   AIC:                         4.624e+04\n",
      "Df Residuals:                    7222   BIC:                         4.633e+04\n",
      "Df Model:                          11                                         \n",
      "Covariance Type:            nonrobust                                         \n",
      "=====================================================================================\n",
      "                        coef    std err          t      P>|t|      [0.025      0.975]\n",
      "-------------------------------------------------------------------------------------\n",
      "const             -2.735e+04    2.5e+04     -1.096      0.273   -7.63e+04    2.16e+04\n",
      "mass                 10.3217      0.487     21.193      0.000       9.367      11.276\n",
      "kinetic_energy        1.0389      0.075     13.836      0.000       0.892       1.186\n",
      "mean_radius         -17.9172      0.421    -42.604      0.000     -18.742     -17.093\n",
      "Group_M_Crit200   -1990.9910    945.436     -2.106      0.035   -3844.322    -137.660\n",
      "Group_M_Crit500   -1674.9439   1097.009     -1.527      0.127   -3825.403     475.516\n",
      "Group_M_Mean200    -178.5854   1357.422     -0.132      0.895   -2839.530    2482.359\n",
      "Group_M_TopHat200  1084.5021   1070.174      1.013      0.311   -1013.353    3182.357\n",
      "Group_R_Crit200    5985.2552   2836.351      2.110      0.035     425.177    1.15e+04\n",
      "Group_R_Crit500    5017.2686   3291.073      1.525      0.127   -1434.198    1.15e+04\n",
      "Group_R_Mean200     553.3418   4072.234      0.136      0.892   -7429.429    8536.112\n",
      "Group_R_TopHat200 -3266.7346   3210.608     -1.017      0.309   -9560.466    3026.997\n",
      "==============================================================================\n",
      "Omnibus:                     3472.947   Durbin-Watson:                   2.000\n",
      "Prob(Omnibus):                  0.000   Jarque-Bera (JB):            23162.915\n",
      "Skew:                           2.221   Prob(JB):                         0.00\n",
      "Kurtosis:                      10.558   Cond. No.                     7.37e+06\n",
      "==============================================================================\n",
      "\n",
      "Notes:\n",
      "[1] Standard Errors assume that the covariance matrix of the errors is correctly specified.\n",
      "[2] The condition number is large, 7.37e+06. This might indicate that there are\n",
      "strong multicollinearity or other numerical problems.\n"
     ]
    }
   ],
   "source": [
    "#Model statistics\n",
    "#Must add constant for y-intercept\n",
    "model = sm.OLS(y_train, sm.add_constant(X_train)).fit()\n",
    "y90_pred = model.predict(sm.add_constant(X_test))\n",
    "print_model = model.summary()\n",
    "print(print_model)"
   ]
  },
  {
   "cell_type": "code",
   "execution_count": 33,
   "metadata": {},
   "outputs": [
    {
     "name": "stderr",
     "output_type": "stream",
     "text": [
      "/Users/parth/opt/anaconda3/envs/env/lib/python3.6/site-packages/seaborn/distributions.py:2619: FutureWarning: `distplot` is a deprecated function and will be removed in a future version. Please adapt your code to use either `displot` (a figure-level function with similar flexibility) or `histplot` (an axes-level function for histograms).\n",
      "  warnings.warn(msg, FutureWarning)\n"
     ]
    },
    {
     "data": {
      "image/png": "[encoded data removed]",
      "text/plain": [
       "<Figure size 432x288 with 1 Axes>"
      ]
     },
     "metadata": {
      "needs_background": "light"
     },
     "output_type": "display_data"
    }
   ],
   "source": [
    "from scipy import stats\n",
    "sns.distplot(model.resid, fit=stats.norm);"
   ]
  },
  {
   "cell_type": "code",
   "execution_count": 38,
   "metadata": {},
   "outputs": [
    {
     "data": {
      "text/plain": [
       "<matplotlib.collections.PathCollection at 0x7fb4a97ced68>"
      ]
     },
     "execution_count": 38,
     "metadata": {},
     "output_type": "execute_result"
    },
    {
     "data": {
      "image/png": "[encoded data removed]",
      "text/plain": [
       "<Figure size 1080x360 with 1 Axes>"
      ]
     },
     "metadata": {
      "needs_background": "light"
     },
     "output_type": "display_data"
    }
   ],
   "source": [
    "fig = plt.figure(figsize=(15,5))\n",
    "ax = fig.add_subplot(121)\n",
    "ax.set_xlabel(\"Y_Test\")\n",
    "ax.set_ylabel(\"Predicted value\")\n",
    "ax.set_title(\"Actual Values vs Predicted Values\")\n",
    "plt.scatter(y_test, y90_pred)"
   ]
  },
  {
   "cell_type": "code",
   "execution_count": 39,
   "metadata": {},
   "outputs": [],
   "source": [
    "#Step 1\n",
    "y_1=y.copy()"
   ]
  },
  {
   "cell_type": "code",
   "execution_count": 40,
   "metadata": {},
   "outputs": [
    {
     "data": {
      "text/html": [
       "<div>\n",
       "<style scoped>\n",
       "    .dataframe tbody tr th:only-of-type {\n",
       "        vertical-align: middle;\n",
       "    }\n",
       "\n",
       "    .dataframe tbody tr th {\n",
       "        vertical-align: top;\n",
       "    }\n",
       "\n",
       "    .dataframe thead th {\n",
       "        text-align: right;\n",
       "    }\n",
       "</style>\n",
       "<table border=\"1\" class=\"dataframe\">\n",
       "  <thead>\n",
       "    <tr style=\"text-align: right;\">\n",
       "      <th></th>\n",
       "      <th>dispersion</th>\n",
       "    </tr>\n",
       "  </thead>\n",
       "  <tbody>\n",
       "    <tr>\n",
       "      <th>count</th>\n",
       "      <td>954.000000</td>\n",
       "    </tr>\n",
       "    <tr>\n",
       "      <th>mean</th>\n",
       "      <td>195.056500</td>\n",
       "    </tr>\n",
       "    <tr>\n",
       "      <th>std</th>\n",
       "      <td>139.004064</td>\n",
       "    </tr>\n",
       "    <tr>\n",
       "      <th>min</th>\n",
       "      <td>90.051380</td>\n",
       "    </tr>\n",
       "    <tr>\n",
       "      <th>25%</th>\n",
       "      <td>105.302765</td>\n",
       "    </tr>\n",
       "    <tr>\n",
       "      <th>50%</th>\n",
       "      <td>139.641120</td>\n",
       "    </tr>\n",
       "    <tr>\n",
       "      <th>75%</th>\n",
       "      <td>228.227293</td>\n",
       "    </tr>\n",
       "    <tr>\n",
       "      <th>max</th>\n",
       "      <td>1039.325700</td>\n",
       "    </tr>\n",
       "  </tbody>\n",
       "</table>\n",
       "</div>"
      ],
      "text/plain": [
       "        dispersion\n",
       "count   954.000000\n",
       "mean    195.056500\n",
       "std     139.004064\n",
       "min      90.051380\n",
       "25%     105.302765\n",
       "50%     139.641120\n",
       "75%     228.227293\n",
       "max    1039.325700"
      ]
     },
     "execution_count": 40,
     "metadata": {},
     "output_type": "execute_result"
    }
   ],
   "source": [
    "#Now plotting the model with the rest of the data (i.e. dispersion over 90)\n",
    "y_1 = y_1[y_1['dispersion'].between(90.00, 1500.00)]\n",
    "y_1.describe()"
   ]
  },
  {
   "cell_type": "code",
   "execution_count": 41,
   "metadata": {},
   "outputs": [],
   "source": [
    "#Step 2\n",
    "df_1 = df.copy()"
   ]
  },
  {
   "cell_type": "code",
   "execution_count": 42,
   "metadata": {},
   "outputs": [],
   "source": [
    "#Step 3\n",
    "df_1 = df_1[df_1['dispersion'].between(90.00, 1500.00)]"
   ]
  },
  {
   "cell_type": "code",
   "execution_count": 43,
   "metadata": {},
   "outputs": [
    {
     "data": {
      "text/plain": [
       "(954, 12)"
      ]
     },
     "execution_count": 43,
     "metadata": {},
     "output_type": "execute_result"
    }
   ],
   "source": [
    "#Step 4\n",
    "df_1.shape"
   ]
  },
  {
   "cell_type": "code",
   "execution_count": 44,
   "metadata": {},
   "outputs": [],
   "source": [
    "#Step 5\n",
    "x_1 = df_1.loc[:, ~df_1.columns.isin(['dispersion'])] #Creating dependent variables dataframe\n",
    "y_1 = df_1.loc[:, df_1.columns.isin(['dispersion'])]  #Creating predictor variable dataframe"
   ]
  },
  {
   "cell_type": "code",
   "execution_count": 45,
   "metadata": {},
   "outputs": [],
   "source": [
    "#Step 6\n",
    "x1_log = x_1.copy()"
   ]
  },
  {
   "cell_type": "code",
   "execution_count": 46,
   "metadata": {},
   "outputs": [],
   "source": [
    "#Step 7\n",
    "x1_log = x1_log.transform(lambda a: np.log(a))"
   ]
  },
  {
   "cell_type": "code",
   "execution_count": 47,
   "metadata": {},
   "outputs": [
    {
     "data": {
      "text/plain": [
       "(954, 11)"
      ]
     },
     "execution_count": 47,
     "metadata": {},
     "output_type": "execute_result"
    }
   ],
   "source": [
    "#Step 8\n",
    "x1_log.shape"
   ]
  },
  {
   "cell_type": "code",
   "execution_count": 48,
   "metadata": {},
   "outputs": [],
   "source": [
    "#Step 9\n",
    "X1=x1_log\n",
    "y_1=y_1\n",
    "\n",
    "X_train, X_test, y_train, y_test = sklearn.model_selection.train_test_split(X1, y_1, test_size = 0.20, random_state = 5)"
   ]
  },
  {
   "cell_type": "code",
   "execution_count": 50,
   "metadata": {},
   "outputs": [
    {
     "data": {
      "text/plain": [
       "(763, 11)"
      ]
     },
     "execution_count": 50,
     "metadata": {},
     "output_type": "execute_result"
    }
   ],
   "source": [
    "#Step 10\n",
    "X_train.shape "
   ]
  },
  {
   "cell_type": "code",
   "execution_count": 51,
   "metadata": {},
   "outputs": [
    {
     "name": "stdout",
     "output_type": "stream",
     "text": [
      "                            OLS Regression Results                            \n",
      "==============================================================================\n",
      "Dep. Variable:             dispersion   R-squared:                       0.540\n",
      "Model:                            OLS   Adj. R-squared:                  0.533\n",
      "Method:                 Least Squares   F-statistic:                     80.16\n",
      "Date:                Thu, 30 Jun 2022   Prob (F-statistic):          1.08e-118\n",
      "Time:                        16:14:57   Log-Likelihood:                -4576.3\n",
      "No. Observations:                 763   AIC:                             9177.\n",
      "Df Residuals:                     751   BIC:                             9232.\n",
      "Df Model:                          11                                         \n",
      "Covariance Type:            nonrobust                                         \n",
      "=====================================================================================\n",
      "                        coef    std err          t      P>|t|      [0.025      0.975]\n",
      "-------------------------------------------------------------------------------------\n",
      "const             -9.593e+05   1.34e+06     -0.714      0.476    -3.6e+06    1.68e+06\n",
      "mass                -39.1204     10.879     -3.596      0.000     -60.477     -17.764\n",
      "kinetic_energy       58.3644      3.921     14.884      0.000      50.666      66.063\n",
      "mean_radius         311.5325     14.897     20.912      0.000     282.288     340.777\n",
      "Group_M_Crit200    3.928e+04   5.03e+04      0.781      0.435   -5.95e+04    1.38e+05\n",
      "Group_M_Crit500   -1.563e+04   5.73e+04     -0.273      0.785   -1.28e+05    9.68e+04\n",
      "Group_M_Mean200   -7.609e+04   7.13e+04     -1.067      0.286   -2.16e+05    6.39e+04\n",
      "Group_M_TopHat200 -2.752e+04   5.67e+04     -0.485      0.628   -1.39e+05    8.38e+04\n",
      "Group_R_Crit200   -1.182e+05   1.51e+05     -0.783      0.434   -4.15e+05    1.78e+05\n",
      "Group_R_Crit500    4.697e+04   1.72e+05      0.273      0.785    -2.9e+05    3.84e+05\n",
      "Group_R_Mean200    2.278e+05   2.14e+05      1.065      0.287   -1.92e+05    6.48e+05\n",
      "Group_R_TopHat200  8.331e+04    1.7e+05      0.490      0.625   -2.51e+05    4.17e+05\n",
      "==============================================================================\n",
      "Omnibus:                      213.745   Durbin-Watson:                   2.012\n",
      "Prob(Omnibus):                  0.000   Jarque-Bera (JB):              790.830\n",
      "Skew:                           1.285   Prob(JB):                    1.88e-172\n",
      "Kurtosis:                       7.274   Cond. No.                     8.45e+06\n",
      "==============================================================================\n",
      "\n",
      "Notes:\n",
      "[1] Standard Errors assume that the covariance matrix of the errors is correctly specified.\n",
      "[2] The condition number is large, 8.45e+06. This might indicate that there are\n",
      "strong multicollinearity or other numerical problems.\n"
     ]
    }
   ],
   "source": [
    "#Step 11\n",
    "#Model statistics\n",
    "#Must add constant for y-intercept\n",
    "model = sm.OLS(y_train, sm.add_constant(X_train)).fit()\n",
    "y1_pred = model.predict(sm.add_constant(X_test))\n",
    "print_model = model.summary()\n",
    "print(print_model)"
   ]
  },
  {
   "cell_type": "code",
   "execution_count": 52,
   "metadata": {},
   "outputs": [
    {
     "name": "stderr",
     "output_type": "stream",
     "text": [
      "/Users/parth/opt/anaconda3/envs/env/lib/python3.6/site-packages/seaborn/distributions.py:2619: FutureWarning: `distplot` is a deprecated function and will be removed in a future version. Please adapt your code to use either `displot` (a figure-level function with similar flexibility) or `histplot` (an axes-level function for histograms).\n",
      "  warnings.warn(msg, FutureWarning)\n"
     ]
    },
    {
     "data": {
      "image/png": "[encoded data removed]",
      "text/plain": [
       "<Figure size 432x288 with 1 Axes>"
      ]
     },
     "metadata": {
      "needs_background": "light"
     },
     "output_type": "display_data"
    }
   ],
   "source": [
    "#Step 12\n",
    "from scipy import stats\n",
    "sns.distplot(model.resid, fit=stats.norm);"
   ]
  },
  {
   "cell_type": "code",
   "execution_count": 54,
   "metadata": {},
   "outputs": [
    {
     "data": {
      "text/plain": [
       "<matplotlib.collections.PathCollection at 0x7fb498889550>"
      ]
     },
     "execution_count": 54,
     "metadata": {},
     "output_type": "execute_result"
    },
    {
     "data": {
      "image/png": "[encoded data removed]",
      "text/plain": [
       "<Figure size 1080x360 with 1 Axes>"
      ]
     },
     "metadata": {
      "needs_background": "light"
     },
     "output_type": "display_data"
    }
   ],
   "source": [
    "#Step 13\n",
    "fig = plt.figure(figsize=(15,5))\n",
    "ax = fig.add_subplot(121)\n",
    "ax.set_xlabel(\"Y_Test\")\n",
    "ax.set_ylabel(\"Predicted value\")\n",
    "ax.set_title(\"Actual Values vs Predicted Values\")\n",
    "plt.scatter(y_test, y1_pred)"
   ]
  },
  {
   "cell_type": "markdown",
   "metadata": {},
   "source": [
    "# Now I will examine the data a few standard deviations away from the mean"
   ]
  },
  {
   "cell_type": "markdown",
   "metadata": {},
   "source": [
    "### 1/2 Standard Deviation from the mean"
   ]
  },
  {
   "cell_type": "code",
   "execution_count": 55,
   "metadata": {},
   "outputs": [
    {
     "data": {
      "text/html": [
       "<div>\n",
       "<style scoped>\n",
       "    .dataframe tbody tr th:only-of-type {\n",
       "        vertical-align: middle;\n",
       "    }\n",
       "\n",
       "    .dataframe tbody tr th {\n",
       "        vertical-align: top;\n",
       "    }\n",
       "\n",
       "    .dataframe thead th {\n",
       "        text-align: right;\n",
       "    }\n",
       "</style>\n",
       "<table border=\"1\" class=\"dataframe\">\n",
       "  <thead>\n",
       "    <tr style=\"text-align: right;\">\n",
       "      <th></th>\n",
       "      <th>dispersion</th>\n",
       "    </tr>\n",
       "  </thead>\n",
       "  <tbody>\n",
       "    <tr>\n",
       "      <th>count</th>\n",
       "      <td>9997.000000</td>\n",
       "    </tr>\n",
       "    <tr>\n",
       "      <th>mean</th>\n",
       "      <td>74.139024</td>\n",
       "    </tr>\n",
       "    <tr>\n",
       "      <th>std</th>\n",
       "      <td>58.848546</td>\n",
       "    </tr>\n",
       "    <tr>\n",
       "      <th>min</th>\n",
       "      <td>0.000000</td>\n",
       "    </tr>\n",
       "    <tr>\n",
       "      <th>25%</th>\n",
       "      <td>55.170160</td>\n",
       "    </tr>\n",
       "    <tr>\n",
       "      <th>50%</th>\n",
       "      <td>61.293182</td>\n",
       "    </tr>\n",
       "    <tr>\n",
       "      <th>75%</th>\n",
       "      <td>70.379020</td>\n",
       "    </tr>\n",
       "    <tr>\n",
       "      <th>max</th>\n",
       "      <td>1039.325700</td>\n",
       "    </tr>\n",
       "  </tbody>\n",
       "</table>\n",
       "</div>"
      ],
      "text/plain": [
       "        dispersion\n",
       "count  9997.000000\n",
       "mean     74.139024\n",
       "std      58.848546\n",
       "min       0.000000\n",
       "25%      55.170160\n",
       "50%      61.293182\n",
       "75%      70.379020\n",
       "max    1039.325700"
      ]
     },
     "execution_count": 55,
     "metadata": {},
     "output_type": "execute_result"
    }
   ],
   "source": [
    "y.describe()"
   ]
  },
  {
   "cell_type": "code",
   "execution_count": 56,
   "metadata": {},
   "outputs": [
    {
     "data": {
      "text/plain": [
       "dispersion    29.424273\n",
       "dtype: float64"
      ]
     },
     "execution_count": 56,
     "metadata": {},
     "output_type": "execute_result"
    }
   ],
   "source": [
    "(y.std())/2"
   ]
  },
  {
   "cell_type": "code",
   "execution_count": 57,
   "metadata": {},
   "outputs": [
    {
     "name": "stdout",
     "output_type": "stream",
     "text": [
      "dispersion    103.563297\n",
      "dtype: float64\n",
      "dispersion    44.714751\n",
      "dtype: float64\n"
     ]
    }
   ],
   "source": [
    "print(y.mean() + ((y.std())/2))\n",
    "print(y.mean() - ((y.std())/2))"
   ]
  },
  {
   "cell_type": "code",
   "execution_count": 58,
   "metadata": {},
   "outputs": [],
   "source": [
    "#Step 1\n",
    "y_1sd = y.copy()"
   ]
  },
  {
   "cell_type": "code",
   "execution_count": 59,
   "metadata": {},
   "outputs": [
    {
     "data": {
      "text/html": [
       "<div>\n",
       "<style scoped>\n",
       "    .dataframe tbody tr th:only-of-type {\n",
       "        vertical-align: middle;\n",
       "    }\n",
       "\n",
       "    .dataframe tbody tr th {\n",
       "        vertical-align: top;\n",
       "    }\n",
       "\n",
       "    .dataframe thead th {\n",
       "        text-align: right;\n",
       "    }\n",
       "</style>\n",
       "<table border=\"1\" class=\"dataframe\">\n",
       "  <thead>\n",
       "    <tr style=\"text-align: right;\">\n",
       "      <th></th>\n",
       "      <th>dispersion</th>\n",
       "    </tr>\n",
       "  </thead>\n",
       "  <tbody>\n",
       "    <tr>\n",
       "      <th>count</th>\n",
       "      <td>9178.000000</td>\n",
       "    </tr>\n",
       "    <tr>\n",
       "      <th>mean</th>\n",
       "      <td>62.419584</td>\n",
       "    </tr>\n",
       "    <tr>\n",
       "      <th>std</th>\n",
       "      <td>10.494455</td>\n",
       "    </tr>\n",
       "    <tr>\n",
       "      <th>min</th>\n",
       "      <td>44.721070</td>\n",
       "    </tr>\n",
       "    <tr>\n",
       "      <th>25%</th>\n",
       "      <td>54.921754</td>\n",
       "    </tr>\n",
       "    <tr>\n",
       "      <th>50%</th>\n",
       "      <td>60.400692</td>\n",
       "    </tr>\n",
       "    <tr>\n",
       "      <th>75%</th>\n",
       "      <td>67.783170</td>\n",
       "    </tr>\n",
       "    <tr>\n",
       "      <th>max</th>\n",
       "      <td>103.525185</td>\n",
       "    </tr>\n",
       "  </tbody>\n",
       "</table>\n",
       "</div>"
      ],
      "text/plain": [
       "        dispersion\n",
       "count  9178.000000\n",
       "mean     62.419584\n",
       "std      10.494455\n",
       "min      44.721070\n",
       "25%      54.921754\n",
       "50%      60.400692\n",
       "75%      67.783170\n",
       "max     103.525185"
      ]
     },
     "execution_count": 59,
     "metadata": {},
     "output_type": "execute_result"
    }
   ],
   "source": [
    "y_1sd = y_1sd[y_1sd['dispersion'].between(44.714751, 103.563297)]\n",
    "y_1sd.describe()"
   ]
  },
  {
   "cell_type": "code",
   "execution_count": 60,
   "metadata": {},
   "outputs": [],
   "source": [
    "#Step 2\n",
    "df_1sd = df.copy()"
   ]
  },
  {
   "cell_type": "code",
   "execution_count": 61,
   "metadata": {},
   "outputs": [],
   "source": [
    "#Step 3\n",
    "df_1sd = df_1sd[df_1sd['dispersion'].between(44.714751, 103.563297)]"
   ]
  },
  {
   "cell_type": "code",
   "execution_count": 62,
   "metadata": {},
   "outputs": [
    {
     "data": {
      "text/plain": [
       "(9178, 12)"
      ]
     },
     "execution_count": 62,
     "metadata": {},
     "output_type": "execute_result"
    }
   ],
   "source": [
    "#Step 4\n",
    "df_1sd.shape"
   ]
  },
  {
   "cell_type": "code",
   "execution_count": 63,
   "metadata": {},
   "outputs": [],
   "source": [
    "#Step 5\n",
    "x_1sd = df_1sd.loc[:, ~df_1sd.columns.isin(['dispersion'])] #Creating dependent variables dataframe\n",
    "y_1sd = df_1sd.loc[:, df_1sd.columns.isin(['dispersion'])]  #Creating predictor variable dataframe"
   ]
  },
  {
   "cell_type": "code",
   "execution_count": 64,
   "metadata": {},
   "outputs": [],
   "source": [
    "#Step 6\n",
    "x1sd_log = x_1sd.copy()"
   ]
  },
  {
   "cell_type": "code",
   "execution_count": 65,
   "metadata": {},
   "outputs": [],
   "source": [
    "#Step 7\n",
    "x1sd_log = x1sd_log.transform(lambda a: np.log(a))"
   ]
  },
  {
   "cell_type": "code",
   "execution_count": 66,
   "metadata": {},
   "outputs": [
    {
     "data": {
      "text/plain": [
       "(9178, 11)"
      ]
     },
     "execution_count": 66,
     "metadata": {},
     "output_type": "execute_result"
    }
   ],
   "source": [
    "#Step 8\n",
    "x1sd_log.shape"
   ]
  },
  {
   "cell_type": "code",
   "execution_count": 67,
   "metadata": {},
   "outputs": [],
   "source": [
    "#Step 9\n",
    "X=x1sd_log\n",
    "y=y_1sd\n",
    "\n",
    "X_train, X_test, y_train, y_test = sklearn.model_selection.train_test_split(X, y, test_size = 0.20, random_state = 5)"
   ]
  },
  {
   "cell_type": "code",
   "execution_count": 72,
   "metadata": {},
   "outputs": [
    {
     "data": {
      "text/plain": [
       "((7342, 11), (1836, 1))"
      ]
     },
     "execution_count": 72,
     "metadata": {},
     "output_type": "execute_result"
    }
   ],
   "source": [
    "#Step 10\n",
    "X_train.shape, y_test.shape"
   ]
  },
  {
   "cell_type": "markdown",
   "metadata": {},
   "source": [
    "# Linear Model for values lying within 1/2 Stand Dev"
   ]
  },
  {
   "cell_type": "code",
   "execution_count": 73,
   "metadata": {},
   "outputs": [
    {
     "name": "stdout",
     "output_type": "stream",
     "text": [
      "                            OLS Regression Results                            \n",
      "==============================================================================\n",
      "Dep. Variable:             dispersion   R-squared:                       0.535\n",
      "Model:                            OLS   Adj. R-squared:                  0.534\n",
      "Method:                 Least Squares   F-statistic:                     765.2\n",
      "Date:                Thu, 30 Jun 2022   Prob (F-statistic):               0.00\n",
      "Time:                        16:33:13   Log-Likelihood:                -24841.\n",
      "No. Observations:                7342   AIC:                         4.971e+04\n",
      "Df Residuals:                    7330   BIC:                         4.979e+04\n",
      "Df Model:                          11                                         \n",
      "Covariance Type:            nonrobust                                         \n",
      "=====================================================================================\n",
      "                        coef    std err          t      P>|t|      [0.025      0.975]\n",
      "-------------------------------------------------------------------------------------\n",
      "const              1.875e+04   2.99e+04      0.626      0.531   -3.99e+04    7.74e+04\n",
      "mass                 16.0922      0.622     25.871      0.000      14.873      17.312\n",
      "kinetic_energy        1.3462      0.091     14.862      0.000       1.169       1.524\n",
      "mean_radius         -15.8749      0.533    -29.795      0.000     -16.919     -14.830\n",
      "Group_M_Crit200    -866.7976   1135.801     -0.763      0.445   -3093.294    1359.699\n",
      "Group_M_Crit500    -246.4716   1317.888     -0.187      0.852   -2829.912    2336.968\n",
      "Group_M_Mean200     588.1742   1629.875      0.361      0.718   -2606.850    3783.199\n",
      "Group_M_TopHat200  2051.3427   1283.298      1.598      0.110    -464.291    4566.976\n",
      "Group_R_Crit200    2616.2617   3407.416      0.768      0.443   -4063.253    9295.777\n",
      "Group_R_Crit500     727.1985   3953.688      0.184      0.854   -7023.167    8477.564\n",
      "Group_R_Mean200   -1754.1159   4889.631     -0.359      0.720   -1.13e+04    7830.968\n",
      "Group_R_TopHat200 -6163.7464   3849.943     -1.601      0.109   -1.37e+04    1383.250\n",
      "==============================================================================\n",
      "Omnibus:                     3925.239   Durbin-Watson:                   1.991\n",
      "Prob(Omnibus):                  0.000   Jarque-Bera (JB):            30609.442\n",
      "Skew:                           2.479   Prob(JB):                         0.00\n",
      "Kurtosis:                      11.688   Cond. No.                     7.40e+06\n",
      "==============================================================================\n",
      "\n",
      "Notes:\n",
      "[1] Standard Errors assume that the covariance matrix of the errors is correctly specified.\n",
      "[2] The condition number is large, 7.4e+06. This might indicate that there are\n",
      "strong multicollinearity or other numerical problems.\n"
     ]
    }
   ],
   "source": [
    "#Step 11\n",
    "#Model statistics\n",
    "#Must add constant for y-intercept\n",
    "model = sm.OLS(y_train, sm.add_constant(X_train)).fit()\n",
    "y_pred = model.predict(sm.add_constant(X_test))\n",
    "print_model = model.summary()\n",
    "print(print_model)"
   ]
  },
  {
   "cell_type": "code",
   "execution_count": 74,
   "metadata": {},
   "outputs": [
    {
     "name": "stderr",
     "output_type": "stream",
     "text": [
      "/Users/parth/opt/anaconda3/envs/env/lib/python3.6/site-packages/seaborn/distributions.py:2619: FutureWarning: `distplot` is a deprecated function and will be removed in a future version. Please adapt your code to use either `displot` (a figure-level function with similar flexibility) or `histplot` (an axes-level function for histograms).\n",
      "  warnings.warn(msg, FutureWarning)\n"
     ]
    },
    {
     "data": {
      "image/png": "[encoded data removed]",
      "text/plain": [
       "<Figure size 432x288 with 1 Axes>"
      ]
     },
     "metadata": {
      "needs_background": "light"
     },
     "output_type": "display_data"
    }
   ],
   "source": [
    "#Step 12\n",
    "from scipy import stats\n",
    "sns.distplot(model.resid, fit=stats.norm);"
   ]
  },
  {
   "cell_type": "code",
   "execution_count": 75,
   "metadata": {},
   "outputs": [
    {
     "data": {
      "text/plain": [
       "<matplotlib.collections.PathCollection at 0x7fb4bc463b70>"
      ]
     },
     "execution_count": 75,
     "metadata": {},
     "output_type": "execute_result"
    },
    {
     "data": {
      "image/png": "[encoded data removed]",
      "text/plain": [
       "<Figure size 1080x360 with 1 Axes>"
      ]
     },
     "metadata": {
      "needs_background": "light"
     },
     "output_type": "display_data"
    }
   ],
   "source": [
    "#Step 13\n",
    "fig = plt.figure(figsize=(15,5))\n",
    "ax = fig.add_subplot(121)\n",
    "ax.set_xlabel(\"Y_Test\")\n",
    "ax.set_ylabel(\"Predicted value\")\n",
    "ax.set_title(\"Actual Values vs Predicted Values\")\n",
    "plt.scatter(y_test, y_pred)"
   ]
  },
  {
   "cell_type": "markdown",
   "metadata": {},
   "source": [
    "### Now, I will repeat the same steps for attributes not within 1/2 standard deviation from mean"
   ]
  },
  {
   "cell_type": "code",
   "execution_count": 79,
   "metadata": {},
   "outputs": [],
   "source": [
    "#Step 0\n",
    "x = df.loc[:, ~df.columns.isin(['dispersion'])] #Creating dependent variables dataframe\n",
    "y = df.loc[:, df.columns.isin(['dispersion'])]  #Creating predictor variable dataframe"
   ]
  },
  {
   "cell_type": "code",
   "execution_count": 80,
   "metadata": {},
   "outputs": [
    {
     "data": {
      "text/html": [
       "<div>\n",
       "<style scoped>\n",
       "    .dataframe tbody tr th:only-of-type {\n",
       "        vertical-align: middle;\n",
       "    }\n",
       "\n",
       "    .dataframe tbody tr th {\n",
       "        vertical-align: top;\n",
       "    }\n",
       "\n",
       "    .dataframe thead th {\n",
       "        text-align: right;\n",
       "    }\n",
       "</style>\n",
       "<table border=\"1\" class=\"dataframe\">\n",
       "  <thead>\n",
       "    <tr style=\"text-align: right;\">\n",
       "      <th></th>\n",
       "      <th>dispersion</th>\n",
       "    </tr>\n",
       "  </thead>\n",
       "  <tbody>\n",
       "    <tr>\n",
       "      <th>count</th>\n",
       "      <td>9997.000000</td>\n",
       "    </tr>\n",
       "    <tr>\n",
       "      <th>mean</th>\n",
       "      <td>74.139024</td>\n",
       "    </tr>\n",
       "    <tr>\n",
       "      <th>std</th>\n",
       "      <td>58.848546</td>\n",
       "    </tr>\n",
       "    <tr>\n",
       "      <th>min</th>\n",
       "      <td>0.000000</td>\n",
       "    </tr>\n",
       "    <tr>\n",
       "      <th>25%</th>\n",
       "      <td>55.170160</td>\n",
       "    </tr>\n",
       "    <tr>\n",
       "      <th>50%</th>\n",
       "      <td>61.293182</td>\n",
       "    </tr>\n",
       "    <tr>\n",
       "      <th>75%</th>\n",
       "      <td>70.379020</td>\n",
       "    </tr>\n",
       "    <tr>\n",
       "      <th>max</th>\n",
       "      <td>1039.325700</td>\n",
       "    </tr>\n",
       "  </tbody>\n",
       "</table>\n",
       "</div>"
      ],
      "text/plain": [
       "        dispersion\n",
       "count  9997.000000\n",
       "mean     74.139024\n",
       "std      58.848546\n",
       "min       0.000000\n",
       "25%      55.170160\n",
       "50%      61.293182\n",
       "75%      70.379020\n",
       "max    1039.325700"
      ]
     },
     "execution_count": 80,
     "metadata": {},
     "output_type": "execute_result"
    }
   ],
   "source": [
    "y.describe()"
   ]
  },
  {
   "cell_type": "code",
   "execution_count": 81,
   "metadata": {},
   "outputs": [
    {
     "name": "stdout",
     "output_type": "stream",
     "text": [
      "dispersion    103.563297\n",
      "dtype: float64\n",
      "dispersion    44.714751\n",
      "dtype: float64\n"
     ]
    }
   ],
   "source": [
    "print(y.mean() + ((y.std())/2))\n",
    "print(y.mean() - ((y.std())/2))"
   ]
  },
  {
   "cell_type": "code",
   "execution_count": 83,
   "metadata": {},
   "outputs": [],
   "source": [
    "#Step 1\n",
    "y_2sd = y.copy()"
   ]
  },
  {
   "cell_type": "code",
   "execution_count": 87,
   "metadata": {},
   "outputs": [
    {
     "data": {
      "text/html": [
       "<div>\n",
       "<style scoped>\n",
       "    .dataframe tbody tr th:only-of-type {\n",
       "        vertical-align: middle;\n",
       "    }\n",
       "\n",
       "    .dataframe tbody tr th {\n",
       "        vertical-align: top;\n",
       "    }\n",
       "\n",
       "    .dataframe thead th {\n",
       "        text-align: right;\n",
       "    }\n",
       "</style>\n",
       "<table border=\"1\" class=\"dataframe\">\n",
       "  <thead>\n",
       "    <tr style=\"text-align: right;\">\n",
       "      <th></th>\n",
       "      <th>dispersion</th>\n",
       "    </tr>\n",
       "  </thead>\n",
       "  <tbody>\n",
       "    <tr>\n",
       "      <th>count</th>\n",
       "      <td>819.000000</td>\n",
       "    </tr>\n",
       "    <tr>\n",
       "      <th>mean</th>\n",
       "      <td>205.471167</td>\n",
       "    </tr>\n",
       "    <tr>\n",
       "      <th>std</th>\n",
       "      <td>149.245006</td>\n",
       "    </tr>\n",
       "    <tr>\n",
       "      <th>min</th>\n",
       "      <td>0.000000</td>\n",
       "    </tr>\n",
       "    <tr>\n",
       "      <th>25%</th>\n",
       "      <td>115.210110</td>\n",
       "    </tr>\n",
       "    <tr>\n",
       "      <th>50%</th>\n",
       "      <td>155.551200</td>\n",
       "    </tr>\n",
       "    <tr>\n",
       "      <th>75%</th>\n",
       "      <td>250.017130</td>\n",
       "    </tr>\n",
       "    <tr>\n",
       "      <th>max</th>\n",
       "      <td>1039.325700</td>\n",
       "    </tr>\n",
       "  </tbody>\n",
       "</table>\n",
       "</div>"
      ],
      "text/plain": [
       "        dispersion\n",
       "count   819.000000\n",
       "mean    205.471167\n",
       "std     149.245006\n",
       "min       0.000000\n",
       "25%     115.210110\n",
       "50%     155.551200\n",
       "75%     250.017130\n",
       "max    1039.325700"
      ]
     },
     "execution_count": 87,
     "metadata": {},
     "output_type": "execute_result"
    }
   ],
   "source": [
    "y_2sd = y_2sd[~y_2sd['dispersion'].between(44.714751, 103.563297)]\n",
    "y_2sd.describe()"
   ]
  },
  {
   "cell_type": "code",
   "execution_count": 90,
   "metadata": {},
   "outputs": [],
   "source": [
    "#Step 2\n",
    "df_2sd = df.copy()"
   ]
  },
  {
   "cell_type": "code",
   "execution_count": 91,
   "metadata": {},
   "outputs": [],
   "source": [
    "#Step 3\n",
    "df_2sd = df_2sd[~df_2sd['dispersion'].between(44.714751, 103.563297)]"
   ]
  },
  {
   "cell_type": "code",
   "execution_count": 92,
   "metadata": {},
   "outputs": [
    {
     "data": {
      "text/plain": [
       "(819, 12)"
      ]
     },
     "execution_count": 92,
     "metadata": {},
     "output_type": "execute_result"
    }
   ],
   "source": [
    "#Step 4\n",
    "df_2sd.shape"
   ]
  },
  {
   "cell_type": "code",
   "execution_count": 100,
   "metadata": {},
   "outputs": [],
   "source": [
    "#Step 5\n",
    "x_2sd = df_2sd.loc[:, ~df_2sd.columns.isin(['dispersion'])] #Creating dependent variables dataframe\n",
    "y_2sd = df_2sd.loc[:, df_2sd.columns.isin(['dispersion'])]  #Creating predictor variable dataframe"
   ]
  },
  {
   "cell_type": "code",
   "execution_count": 101,
   "metadata": {},
   "outputs": [],
   "source": [
    "#Step 6\n",
    "x2sd_log = x_2sd.copy()"
   ]
  },
  {
   "cell_type": "code",
   "execution_count": 102,
   "metadata": {},
   "outputs": [],
   "source": [
    "#Step 7\n",
    "x2sd_log = x2sd_log.transform(lambda a: np.log(a))"
   ]
  },
  {
   "cell_type": "code",
   "execution_count": 103,
   "metadata": {},
   "outputs": [
    {
     "data": {
      "text/plain": [
       "(819, 11)"
      ]
     },
     "execution_count": 103,
     "metadata": {},
     "output_type": "execute_result"
    }
   ],
   "source": [
    "#Step 8\n",
    "x2sd_log.shape"
   ]
  },
  {
   "cell_type": "code",
   "execution_count": 104,
   "metadata": {},
   "outputs": [],
   "source": [
    "#Step 9\n",
    "X=x2sd_log\n",
    "y=y_2sd\n",
    "\n",
    "X_train, X_test, y_train, y_test = sklearn.model_selection.train_test_split(X, y, test_size = 0.20, random_state = 5)"
   ]
  },
  {
   "cell_type": "code",
   "execution_count": 105,
   "metadata": {},
   "outputs": [
    {
     "data": {
      "text/plain": [
       "((655, 11), (164, 1))"
      ]
     },
     "execution_count": 105,
     "metadata": {},
     "output_type": "execute_result"
    }
   ],
   "source": [
    "#Step 10\n",
    "X_train.shape, y_test.shape"
   ]
  },
  {
   "cell_type": "markdown",
   "metadata": {},
   "source": [
    "# Linear Model for values lying beyond 1/2 Stand Dev"
   ]
  },
  {
   "cell_type": "code",
   "execution_count": 106,
   "metadata": {},
   "outputs": [
    {
     "name": "stdout",
     "output_type": "stream",
     "text": [
      "                            OLS Regression Results                            \n",
      "==============================================================================\n",
      "Dep. Variable:             dispersion   R-squared:                       0.502\n",
      "Model:                            OLS   Adj. R-squared:                  0.493\n",
      "Method:                 Least Squares   F-statistic:                     58.92\n",
      "Date:                Thu, 30 Jun 2022   Prob (F-statistic):           8.10e-90\n",
      "Time:                        16:47:27   Log-Likelihood:                -3979.0\n",
      "No. Observations:                 655   AIC:                             7982.\n",
      "Df Residuals:                     643   BIC:                             8036.\n",
      "Df Model:                          11                                         \n",
      "Covariance Type:            nonrobust                                         \n",
      "=====================================================================================\n",
      "                        coef    std err          t      P>|t|      [0.025      0.975]\n",
      "-------------------------------------------------------------------------------------\n",
      "const               4.67e+04   1.52e+06      0.031      0.976   -2.95e+06    3.04e+06\n",
      "mass                -36.3974     12.576     -2.894      0.004     -61.093     -11.702\n",
      "kinetic_energy       77.3654      4.179     18.514      0.000      69.160      85.571\n",
      "mean_radius         272.5541     17.212     15.835      0.000     238.755     306.353\n",
      "Group_M_Crit200    8.138e+04   5.82e+04      1.398      0.163    -3.3e+04    1.96e+05\n",
      "Group_M_Crit500    2.245e+04   6.77e+04      0.332      0.740    -1.1e+05    1.55e+05\n",
      "Group_M_Mean200   -8.236e+04   8.09e+04     -1.018      0.309   -2.41e+05    7.65e+04\n",
      "Group_M_TopHat200 -4630.9352   6.43e+04     -0.072      0.943   -1.31e+05    1.22e+05\n",
      "Group_R_Crit200   -2.442e+05   1.75e+05     -1.398      0.162   -5.87e+05    9.87e+04\n",
      "Group_R_Crit500   -6.733e+04   2.03e+05     -0.332      0.740   -4.66e+05    3.31e+05\n",
      "Group_R_Mean200    2.468e+05   2.43e+05      1.017      0.310    -2.3e+05    7.24e+05\n",
      "Group_R_TopHat200  1.427e+04   1.93e+05      0.074      0.941   -3.64e+05    3.93e+05\n",
      "==============================================================================\n",
      "Omnibus:                       99.316   Durbin-Watson:                   2.000\n",
      "Prob(Omnibus):                  0.000   Jarque-Bera (JB):              199.860\n",
      "Skew:                           0.867   Prob(JB):                     3.99e-44\n",
      "Kurtosis:                       5.077   Cond. No.                     8.04e+06\n",
      "==============================================================================\n",
      "\n",
      "Notes:\n",
      "[1] Standard Errors assume that the covariance matrix of the errors is correctly specified.\n",
      "[2] The condition number is large, 8.04e+06. This might indicate that there are\n",
      "strong multicollinearity or other numerical problems.\n"
     ]
    }
   ],
   "source": [
    "#Step 11\n",
    "#Model statistics\n",
    "#Must add constant for y-intercept\n",
    "model = sm.OLS(y_train, sm.add_constant(X_train)).fit()\n",
    "y_pred = model.predict(sm.add_constant(X_test))\n",
    "print_model = model.summary()\n",
    "print(print_model)"
   ]
  },
  {
   "cell_type": "code",
   "execution_count": 107,
   "metadata": {},
   "outputs": [
    {
     "name": "stderr",
     "output_type": "stream",
     "text": [
      "/Users/parth/opt/anaconda3/envs/env/lib/python3.6/site-packages/seaborn/distributions.py:2619: FutureWarning: `distplot` is a deprecated function and will be removed in a future version. Please adapt your code to use either `displot` (a figure-level function with similar flexibility) or `histplot` (an axes-level function for histograms).\n",
      "  warnings.warn(msg, FutureWarning)\n"
     ]
    },
    {
     "data": {
      "image/png": "[encoded data removed]",
      "text/plain": [
       "<Figure size 432x288 with 1 Axes>"
      ]
     },
     "metadata": {
      "needs_background": "light"
     },
     "output_type": "display_data"
    }
   ],
   "source": [
    "#Step 12\n",
    "from scipy import stats\n",
    "sns.distplot(model.resid, fit=stats.norm);"
   ]
  },
  {
   "cell_type": "code",
   "execution_count": 108,
   "metadata": {},
   "outputs": [
    {
     "data": {
      "text/plain": [
       "<matplotlib.collections.PathCollection at 0x7fb460088160>"
      ]
     },
     "execution_count": 108,
     "metadata": {},
     "output_type": "execute_result"
    },
    {
     "data": {
      "image/png": "[encoded data removed]",
      "text/plain": [
       "<Figure size 1080x360 with 1 Axes>"
      ]
     },
     "metadata": {
      "needs_background": "light"
     },
     "output_type": "display_data"
    }
   ],
   "source": [
    "#Step 13\n",
    "fig = plt.figure(figsize=(15,5))\n",
    "ax = fig.add_subplot(121)\n",
    "ax.set_xlabel(\"Y_Test\")\n",
    "ax.set_ylabel(\"Predicted value\")\n",
    "ax.set_title(\"Actual Values vs Predicted Values\")\n",
    "plt.scatter(y_test, y_pred)"
   ]
  },
  {
   "cell_type": "markdown",
   "metadata": {},
   "source": [
    "# I will repeat the process 1/4 Standard Deviation from the mean"
   ]
  },
  {
   "cell_type": "code",
   "execution_count": 109,
   "metadata": {},
   "outputs": [],
   "source": [
    "#Step 0\n",
    "x = df.loc[:, ~df.columns.isin(['dispersion'])] #Creating dependent variables dataframe\n",
    "y = df.loc[:, df.columns.isin(['dispersion'])]  #Creating predictor variable dataframe"
   ]
  },
  {
   "cell_type": "code",
   "execution_count": 111,
   "metadata": {},
   "outputs": [
    {
     "data": {
      "text/html": [
       "<div>\n",
       "<style scoped>\n",
       "    .dataframe tbody tr th:only-of-type {\n",
       "        vertical-align: middle;\n",
       "    }\n",
       "\n",
       "    .dataframe tbody tr th {\n",
       "        vertical-align: top;\n",
       "    }\n",
       "\n",
       "    .dataframe thead th {\n",
       "        text-align: right;\n",
       "    }\n",
       "</style>\n",
       "<table border=\"1\" class=\"dataframe\">\n",
       "  <thead>\n",
       "    <tr style=\"text-align: right;\">\n",
       "      <th></th>\n",
       "      <th>dispersion</th>\n",
       "    </tr>\n",
       "  </thead>\n",
       "  <tbody>\n",
       "    <tr>\n",
       "      <th>count</th>\n",
       "      <td>9997.000000</td>\n",
       "    </tr>\n",
       "    <tr>\n",
       "      <th>mean</th>\n",
       "      <td>74.139024</td>\n",
       "    </tr>\n",
       "    <tr>\n",
       "      <th>std</th>\n",
       "      <td>58.848546</td>\n",
       "    </tr>\n",
       "    <tr>\n",
       "      <th>min</th>\n",
       "      <td>0.000000</td>\n",
       "    </tr>\n",
       "    <tr>\n",
       "      <th>25%</th>\n",
       "      <td>55.170160</td>\n",
       "    </tr>\n",
       "    <tr>\n",
       "      <th>50%</th>\n",
       "      <td>61.293182</td>\n",
       "    </tr>\n",
       "    <tr>\n",
       "      <th>75%</th>\n",
       "      <td>70.379020</td>\n",
       "    </tr>\n",
       "    <tr>\n",
       "      <th>max</th>\n",
       "      <td>1039.325700</td>\n",
       "    </tr>\n",
       "  </tbody>\n",
       "</table>\n",
       "</div>"
      ],
      "text/plain": [
       "        dispersion\n",
       "count  9997.000000\n",
       "mean     74.139024\n",
       "std      58.848546\n",
       "min       0.000000\n",
       "25%      55.170160\n",
       "50%      61.293182\n",
       "75%      70.379020\n",
       "max    1039.325700"
      ]
     },
     "execution_count": 111,
     "metadata": {},
     "output_type": "execute_result"
    }
   ],
   "source": [
    "y.describe()"
   ]
  },
  {
   "cell_type": "code",
   "execution_count": 110,
   "metadata": {},
   "outputs": [
    {
     "name": "stdout",
     "output_type": "stream",
     "text": [
      "dispersion    88.851161\n",
      "dtype: float64\n",
      "dispersion    59.426887\n",
      "dtype: float64\n"
     ]
    }
   ],
   "source": [
    "print(y.mean() + ((y.std())/4))\n",
    "print(y.mean() - ((y.std())/4))"
   ]
  },
  {
   "cell_type": "code",
   "execution_count": 115,
   "metadata": {},
   "outputs": [],
   "source": [
    "#Step 1\n",
    "y_3sd = y.copy()"
   ]
  },
  {
   "cell_type": "code",
   "execution_count": 118,
   "metadata": {},
   "outputs": [
    {
     "data": {
      "text/html": [
       "<div>\n",
       "<style scoped>\n",
       "    .dataframe tbody tr th:only-of-type {\n",
       "        vertical-align: middle;\n",
       "    }\n",
       "\n",
       "    .dataframe tbody tr th {\n",
       "        vertical-align: top;\n",
       "    }\n",
       "\n",
       "    .dataframe thead th {\n",
       "        text-align: right;\n",
       "    }\n",
       "</style>\n",
       "<table border=\"1\" class=\"dataframe\">\n",
       "  <thead>\n",
       "    <tr style=\"text-align: right;\">\n",
       "      <th></th>\n",
       "      <th>dispersion</th>\n",
       "    </tr>\n",
       "  </thead>\n",
       "  <tbody>\n",
       "    <tr>\n",
       "      <th>count</th>\n",
       "      <td>4730.000000</td>\n",
       "    </tr>\n",
       "    <tr>\n",
       "      <th>mean</th>\n",
       "      <td>68.141830</td>\n",
       "    </tr>\n",
       "    <tr>\n",
       "      <th>std</th>\n",
       "      <td>6.953320</td>\n",
       "    </tr>\n",
       "    <tr>\n",
       "      <th>min</th>\n",
       "      <td>59.427097</td>\n",
       "    </tr>\n",
       "    <tr>\n",
       "      <th>25%</th>\n",
       "      <td>62.490395</td>\n",
       "    </tr>\n",
       "    <tr>\n",
       "      <th>50%</th>\n",
       "      <td>66.330933</td>\n",
       "    </tr>\n",
       "    <tr>\n",
       "      <th>75%</th>\n",
       "      <td>72.108397</td>\n",
       "    </tr>\n",
       "    <tr>\n",
       "      <th>max</th>\n",
       "      <td>88.835266</td>\n",
       "    </tr>\n",
       "  </tbody>\n",
       "</table>\n",
       "</div>"
      ],
      "text/plain": [
       "        dispersion\n",
       "count  4730.000000\n",
       "mean     68.141830\n",
       "std       6.953320\n",
       "min      59.427097\n",
       "25%      62.490395\n",
       "50%      66.330933\n",
       "75%      72.108397\n",
       "max      88.835266"
      ]
     },
     "execution_count": 118,
     "metadata": {},
     "output_type": "execute_result"
    }
   ],
   "source": [
    "y_3sd = y_3sd[y_3sd['dispersion'].between(59.426887, 88.851161)]\n",
    "y_3sd.describe()"
   ]
  },
  {
   "cell_type": "code",
   "execution_count": 113,
   "metadata": {},
   "outputs": [],
   "source": [
    "#Step 2\n",
    "df_3sd = df.copy()"
   ]
  },
  {
   "cell_type": "code",
   "execution_count": 119,
   "metadata": {},
   "outputs": [],
   "source": [
    "#Step 3\n",
    "df_3sd = df_3sd[df_3sd['dispersion'].between(59.426887, 88.851161)]"
   ]
  },
  {
   "cell_type": "code",
   "execution_count": 120,
   "metadata": {},
   "outputs": [
    {
     "data": {
      "text/plain": [
       "(4730, 12)"
      ]
     },
     "execution_count": 120,
     "metadata": {},
     "output_type": "execute_result"
    }
   ],
   "source": [
    "#Step 4\n",
    "df_3sd.shape"
   ]
  },
  {
   "cell_type": "code",
   "execution_count": 121,
   "metadata": {},
   "outputs": [],
   "source": [
    "#Step 5\n",
    "x_3sd = df_3sd.loc[:, ~df_3sd.columns.isin(['dispersion'])] #Creating dependent variables dataframe\n",
    "y_3sd = df_3sd.loc[:, df_3sd.columns.isin(['dispersion'])]  #Creating predictor variable dataframe"
   ]
  },
  {
   "cell_type": "code",
   "execution_count": 122,
   "metadata": {},
   "outputs": [],
   "source": [
    "#Step 6\n",
    "x3sd_log = x_3sd.copy()"
   ]
  },
  {
   "cell_type": "code",
   "execution_count": 123,
   "metadata": {},
   "outputs": [],
   "source": [
    "#Step 7\n",
    "x3sd_log = x3sd_log.transform(lambda a: np.log(a))"
   ]
  },
  {
   "cell_type": "code",
   "execution_count": 125,
   "metadata": {},
   "outputs": [
    {
     "data": {
      "text/plain": [
       "(4730, 11)"
      ]
     },
     "execution_count": 125,
     "metadata": {},
     "output_type": "execute_result"
    }
   ],
   "source": [
    "#Step 8\n",
    "x3sd_log.shape"
   ]
  },
  {
   "cell_type": "code",
   "execution_count": 126,
   "metadata": {},
   "outputs": [],
   "source": [
    "#Step 9\n",
    "X=x3sd_log\n",
    "y=y_3sd\n",
    "\n",
    "X_train, X_test, y_train, y_test = sklearn.model_selection.train_test_split(X, y, test_size = 0.20, random_state = 5)"
   ]
  },
  {
   "cell_type": "code",
   "execution_count": 127,
   "metadata": {},
   "outputs": [
    {
     "data": {
      "text/plain": [
       "((3784, 11), (946, 1))"
      ]
     },
     "execution_count": 127,
     "metadata": {},
     "output_type": "execute_result"
    }
   ],
   "source": [
    "#Step 10\n",
    "X_train.shape, y_test.shape"
   ]
  },
  {
   "cell_type": "markdown",
   "metadata": {},
   "source": [
    "# Linear Model for values lying within 1/4 Stand Dev"
   ]
  },
  {
   "cell_type": "code",
   "execution_count": 128,
   "metadata": {},
   "outputs": [
    {
     "name": "stdout",
     "output_type": "stream",
     "text": [
      "                            OLS Regression Results                            \n",
      "==============================================================================\n",
      "Dep. Variable:             dispersion   R-squared:                       0.300\n",
      "Model:                            OLS   Adj. R-squared:                  0.298\n",
      "Method:                 Least Squares   F-statistic:                     146.9\n",
      "Date:                Thu, 30 Jun 2022   Prob (F-statistic):          4.71e-282\n",
      "Time:                        17:01:39   Log-Likelihood:                -12054.\n",
      "No. Observations:                3784   AIC:                         2.413e+04\n",
      "Df Residuals:                    3772   BIC:                         2.421e+04\n",
      "Df Model:                          11                                         \n",
      "Covariance Type:            nonrobust                                         \n",
      "=====================================================================================\n",
      "                        coef    std err          t      P>|t|      [0.025      0.975]\n",
      "-------------------------------------------------------------------------------------\n",
      "const             -2.341e+04   3.42e+04     -0.684      0.494   -9.06e+04    4.37e+04\n",
      "mass                 10.0359      0.698     14.385      0.000       8.668      11.404\n",
      "kinetic_energy        1.0627      0.104     10.213      0.000       0.859       1.267\n",
      "mean_radius          -3.5153      0.663     -5.300      0.000      -4.816      -2.215\n",
      "Group_M_Crit200   -2945.6701   1305.223     -2.257      0.024   -5504.681    -386.659\n",
      "Group_M_Crit500   -1465.6434   1498.314     -0.978      0.328   -4403.227    1471.940\n",
      "Group_M_Mean200    -101.8416   1853.439     -0.055      0.956   -3735.680    3531.997\n",
      "Group_M_TopHat200  2065.7820   1477.080      1.399      0.162    -830.171    4961.735\n",
      "Group_R_Crit200    8849.1451   3915.761      2.260      0.024    1171.932    1.65e+04\n",
      "Group_R_Crit500    4384.2804   4494.997      0.975      0.329   -4428.579    1.32e+04\n",
      "Group_R_Mean200     313.9152   5560.318      0.056      0.955   -1.06e+04    1.12e+04\n",
      "Group_R_TopHat200 -6203.8286   4431.127     -1.400      0.162   -1.49e+04    2483.809\n",
      "==============================================================================\n",
      "Omnibus:                      833.017   Durbin-Watson:                   2.065\n",
      "Prob(Omnibus):                  0.000   Jarque-Bera (JB):             1745.278\n",
      "Skew:                           1.282   Prob(JB):                         0.00\n",
      "Kurtosis:                       5.121   Cond. No.                     7.63e+06\n",
      "==============================================================================\n",
      "\n",
      "Notes:\n",
      "[1] Standard Errors assume that the covariance matrix of the errors is correctly specified.\n",
      "[2] The condition number is large, 7.63e+06. This might indicate that there are\n",
      "strong multicollinearity or other numerical problems.\n"
     ]
    }
   ],
   "source": [
    "#Step 11\n",
    "#Model statistics\n",
    "#Must add constant for y-intercept\n",
    "model = sm.OLS(y_train, sm.add_constant(X_train)).fit()\n",
    "y_pred = model.predict(sm.add_constant(X_test))\n",
    "print_model = model.summary()\n",
    "print(print_model)"
   ]
  },
  {
   "cell_type": "code",
   "execution_count": 129,
   "metadata": {},
   "outputs": [
    {
     "name": "stderr",
     "output_type": "stream",
     "text": [
      "/Users/parth/opt/anaconda3/envs/env/lib/python3.6/site-packages/seaborn/distributions.py:2619: FutureWarning: `distplot` is a deprecated function and will be removed in a future version. Please adapt your code to use either `displot` (a figure-level function with similar flexibility) or `histplot` (an axes-level function for histograms).\n",
      "  warnings.warn(msg, FutureWarning)\n"
     ]
    },
    {
     "data": {
      "image/png": "[encoded data removed]",
      "text/plain": [
       "<Figure size 432x288 with 1 Axes>"
      ]
     },
     "metadata": {
      "needs_background": "light"
     },
     "output_type": "display_data"
    }
   ],
   "source": [
    "#Step 12\n",
    "from scipy import stats\n",
    "sns.distplot(model.resid, fit=stats.norm);"
   ]
  },
  {
   "cell_type": "code",
   "execution_count": 130,
   "metadata": {},
   "outputs": [
    {
     "data": {
      "text/plain": [
       "<matplotlib.collections.PathCollection at 0x7fb4bc8f2a58>"
      ]
     },
     "execution_count": 130,
     "metadata": {},
     "output_type": "execute_result"
    },
    {
     "data": {
      "image/png": "[encoded data removed]",
      "text/plain": [
       "<Figure size 1080x360 with 1 Axes>"
      ]
     },
     "metadata": {
      "needs_background": "light"
     },
     "output_type": "display_data"
    }
   ],
   "source": [
    "#Step 13\n",
    "fig = plt.figure(figsize=(15,5))\n",
    "ax = fig.add_subplot(121)\n",
    "ax.set_xlabel(\"Y_Test\")\n",
    "ax.set_ylabel(\"Predicted value\")\n",
    "ax.set_title(\"Actual Values vs Predicted Values\")\n",
    "plt.scatter(y_test, y_pred)"
   ]
  },
  {
   "cell_type": "markdown",
   "metadata": {},
   "source": [
    "## Now taking elements not present between 1/4 standard deviation of the mean"
   ]
  },
  {
   "cell_type": "code",
   "execution_count": 131,
   "metadata": {},
   "outputs": [],
   "source": [
    "#Step 0\n",
    "x = df.loc[:, ~df.columns.isin(['dispersion'])] #Creating dependent variables dataframe\n",
    "y = df.loc[:, df.columns.isin(['dispersion'])]  #Creating predictor variable dataframe"
   ]
  },
  {
   "cell_type": "code",
   "execution_count": 132,
   "metadata": {},
   "outputs": [],
   "source": [
    "#Step 1\n",
    "y_4sd = y.copy()"
   ]
  },
  {
   "cell_type": "code",
   "execution_count": 134,
   "metadata": {},
   "outputs": [
    {
     "data": {
      "text/html": [
       "<div>\n",
       "<style scoped>\n",
       "    .dataframe tbody tr th:only-of-type {\n",
       "        vertical-align: middle;\n",
       "    }\n",
       "\n",
       "    .dataframe tbody tr th {\n",
       "        vertical-align: top;\n",
       "    }\n",
       "\n",
       "    .dataframe thead th {\n",
       "        text-align: right;\n",
       "    }\n",
       "</style>\n",
       "<table border=\"1\" class=\"dataframe\">\n",
       "  <thead>\n",
       "    <tr style=\"text-align: right;\">\n",
       "      <th></th>\n",
       "      <th>dispersion</th>\n",
       "    </tr>\n",
       "  </thead>\n",
       "  <tbody>\n",
       "    <tr>\n",
       "      <th>count</th>\n",
       "      <td>5267.000000</td>\n",
       "    </tr>\n",
       "    <tr>\n",
       "      <th>mean</th>\n",
       "      <td>79.524770</td>\n",
       "    </tr>\n",
       "    <tr>\n",
       "      <th>std</th>\n",
       "      <td>80.430531</td>\n",
       "    </tr>\n",
       "    <tr>\n",
       "      <th>min</th>\n",
       "      <td>0.000000</td>\n",
       "    </tr>\n",
       "    <tr>\n",
       "      <th>25%</th>\n",
       "      <td>52.068373</td>\n",
       "    </tr>\n",
       "    <tr>\n",
       "      <th>50%</th>\n",
       "      <td>55.477978</td>\n",
       "    </tr>\n",
       "    <tr>\n",
       "      <th>75%</th>\n",
       "      <td>58.612896</td>\n",
       "    </tr>\n",
       "    <tr>\n",
       "      <th>max</th>\n",
       "      <td>1039.325700</td>\n",
       "    </tr>\n",
       "  </tbody>\n",
       "</table>\n",
       "</div>"
      ],
      "text/plain": [
       "        dispersion\n",
       "count  5267.000000\n",
       "mean     79.524770\n",
       "std      80.430531\n",
       "min       0.000000\n",
       "25%      52.068373\n",
       "50%      55.477978\n",
       "75%      58.612896\n",
       "max    1039.325700"
      ]
     },
     "execution_count": 134,
     "metadata": {},
     "output_type": "execute_result"
    }
   ],
   "source": [
    "y_4sd = y_4sd[~y_4sd['dispersion'].between(59.426887, 88.851161)]\n",
    "y_4sd.describe()"
   ]
  },
  {
   "cell_type": "code",
   "execution_count": 135,
   "metadata": {},
   "outputs": [],
   "source": [
    "#Step 2\n",
    "df_4sd = df.copy()"
   ]
  },
  {
   "cell_type": "code",
   "execution_count": 136,
   "metadata": {},
   "outputs": [],
   "source": [
    "#Step 4\n",
    "df_4sd = df_4sd[~df_4sd['dispersion'].between(59.426887, 88.851161)]"
   ]
  },
  {
   "cell_type": "code",
   "execution_count": 137,
   "metadata": {},
   "outputs": [
    {
     "data": {
      "text/plain": [
       "(5267, 12)"
      ]
     },
     "execution_count": 137,
     "metadata": {},
     "output_type": "execute_result"
    }
   ],
   "source": [
    "#Step 4\n",
    "df_4sd.shape"
   ]
  },
  {
   "cell_type": "code",
   "execution_count": 138,
   "metadata": {},
   "outputs": [],
   "source": [
    "#Step 5\n",
    "x_4sd = df_4sd.loc[:, ~df_4sd.columns.isin(['dispersion'])] #Creating dependent variables dataframe\n",
    "y_4sd = df_4sd.loc[:, df_4sd.columns.isin(['dispersion'])]  #Creating predictor variable dataframe"
   ]
  },
  {
   "cell_type": "code",
   "execution_count": 139,
   "metadata": {},
   "outputs": [],
   "source": [
    "#Step 6\n",
    "x4sd_log = x_4sd.copy()"
   ]
  },
  {
   "cell_type": "code",
   "execution_count": 140,
   "metadata": {},
   "outputs": [],
   "source": [
    "#Step 7\n",
    "x4sd_log = x4sd_log.transform(lambda a: np.log(a))"
   ]
  },
  {
   "cell_type": "code",
   "execution_count": 141,
   "metadata": {},
   "outputs": [
    {
     "data": {
      "text/plain": [
       "(5267, 11)"
      ]
     },
     "execution_count": 141,
     "metadata": {},
     "output_type": "execute_result"
    }
   ],
   "source": [
    "#Step 8\n",
    "x4sd_log.shape"
   ]
  },
  {
   "cell_type": "code",
   "execution_count": 142,
   "metadata": {},
   "outputs": [],
   "source": [
    "#Step 9\n",
    "X=x4sd_log\n",
    "y=y_4sd\n",
    "\n",
    "X_train, X_test, y_train, y_test = sklearn.model_selection.train_test_split(X, y, test_size = 0.20, random_state = 5)"
   ]
  },
  {
   "cell_type": "code",
   "execution_count": 143,
   "metadata": {},
   "outputs": [
    {
     "data": {
      "text/plain": [
       "((4213, 11), (1054, 1))"
      ]
     },
     "execution_count": 143,
     "metadata": {},
     "output_type": "execute_result"
    }
   ],
   "source": [
    "#Step 10\n",
    "X_train.shape, y_test.shape"
   ]
  },
  {
   "cell_type": "markdown",
   "metadata": {},
   "source": [
    "# Linear Model for values lying beyond 1/4 Stand Dev"
   ]
  },
  {
   "cell_type": "code",
   "execution_count": 144,
   "metadata": {},
   "outputs": [
    {
     "name": "stdout",
     "output_type": "stream",
     "text": [
      "                            OLS Regression Results                            \n",
      "==============================================================================\n",
      "Dep. Variable:             dispersion   R-squared:                       0.347\n",
      "Model:                            OLS   Adj. R-squared:                  0.345\n",
      "Method:                 Least Squares   F-statistic:                     202.7\n",
      "Date:                Thu, 30 Jun 2022   Prob (F-statistic):               0.00\n",
      "Time:                        17:07:11   Log-Likelihood:                -23448.\n",
      "No. Observations:                4213   AIC:                         4.692e+04\n",
      "Df Residuals:                    4201   BIC:                         4.700e+04\n",
      "Df Model:                          11                                         \n",
      "Covariance Type:            nonrobust                                         \n",
      "=====================================================================================\n",
      "                        coef    std err          t      P>|t|      [0.025      0.975]\n",
      "-------------------------------------------------------------------------------------\n",
      "const             -4.533e+05   3.53e+05     -1.284      0.199   -1.15e+06    2.39e+05\n",
      "mass                 43.9889      5.391      8.160      0.000      33.420      54.558\n",
      "kinetic_energy       25.3844      0.978     25.957      0.000      23.467      27.302\n",
      "mean_radius         141.3337      5.237     26.987      0.000     131.066     151.601\n",
      "Group_M_Crit200   -6191.4109   1.33e+04     -0.467      0.641   -3.22e+04    1.98e+04\n",
      "Group_M_Crit500   -3000.5590   1.56e+04     -0.192      0.848   -3.36e+04    2.76e+04\n",
      "Group_M_Mean200   -2.489e+04   1.91e+04     -1.300      0.194   -6.24e+04    1.27e+04\n",
      "Group_M_TopHat200 -5199.4808   1.51e+04     -0.344      0.731   -3.48e+04    2.44e+04\n",
      "Group_R_Crit200    1.858e+04   3.98e+04      0.467      0.641   -5.95e+04    9.66e+04\n",
      "Group_R_Crit500    8982.3079   4.69e+04      0.192      0.848   -8.29e+04    1.01e+05\n",
      "Group_R_Mean200    7.454e+04   5.74e+04      1.298      0.194   -3.81e+04    1.87e+05\n",
      "Group_R_TopHat200   1.57e+04   4.53e+04      0.347      0.729   -7.31e+04    1.04e+05\n",
      "==============================================================================\n",
      "Omnibus:                     3520.154   Durbin-Watson:                   1.994\n",
      "Prob(Omnibus):                  0.000   Jarque-Bera (JB):           139087.515\n",
      "Skew:                           3.767   Prob(JB):                         0.00\n",
      "Kurtosis:                      30.122   Cond. No.                     7.32e+06\n",
      "==============================================================================\n",
      "\n",
      "Notes:\n",
      "[1] Standard Errors assume that the covariance matrix of the errors is correctly specified.\n",
      "[2] The condition number is large, 7.32e+06. This might indicate that there are\n",
      "strong multicollinearity or other numerical problems.\n"
     ]
    }
   ],
   "source": [
    "#Step 11\n",
    "#Model statistics\n",
    "#Must add constant for y-intercept\n",
    "model = sm.OLS(y_train, sm.add_constant(X_train)).fit()\n",
    "y_pred = model.predict(sm.add_constant(X_test))\n",
    "print_model = model.summary()\n",
    "print(print_model)"
   ]
  },
  {
   "cell_type": "code",
   "execution_count": 145,
   "metadata": {},
   "outputs": [
    {
     "name": "stderr",
     "output_type": "stream",
     "text": [
      "/Users/parth/opt/anaconda3/envs/env/lib/python3.6/site-packages/seaborn/distributions.py:2619: FutureWarning: `distplot` is a deprecated function and will be removed in a future version. Please adapt your code to use either `displot` (a figure-level function with similar flexibility) or `histplot` (an axes-level function for histograms).\n",
      "  warnings.warn(msg, FutureWarning)\n"
     ]
    },
    {
     "data": {
      "image/png": "[encoded data removed]",
      "text/plain": [
       "<Figure size 432x288 with 1 Axes>"
      ]
     },
     "metadata": {
      "needs_background": "light"
     },
     "output_type": "display_data"
    }
   ],
   "source": [
    "#Step 12\n",
    "from scipy import stats\n",
    "sns.distplot(model.resid, fit=stats.norm);"
   ]
  },
  {
   "cell_type": "code",
   "execution_count": 146,
   "metadata": {},
   "outputs": [
    {
     "data": {
      "text/plain": [
       "<matplotlib.collections.PathCollection at 0x7fb4bcc0cf60>"
      ]
     },
     "execution_count": 146,
     "metadata": {},
     "output_type": "execute_result"
    },
    {
     "data": {
      "image/png": "[encoded data removed]",
      "text/plain": [
       "<Figure size 1080x360 with 1 Axes>"
      ]
     },
     "metadata": {
      "needs_background": "light"
     },
     "output_type": "display_data"
    }
   ],
   "source": [
    "#Step 13\n",
    "fig = plt.figure(figsize=(15,5))\n",
    "ax = fig.add_subplot(121)\n",
    "ax.set_xlabel(\"Y_Test\")\n",
    "ax.set_ylabel(\"Predicted value\")\n",
    "ax.set_title(\"Actual Values vs Predicted Values\")\n",
    "plt.scatter(y_test, y_pred)"
   ]
  },
  {
   "cell_type": "code",
   "execution_count": null,
   "metadata": {},
   "outputs": [],
   "source": []
  }
 ],
 "metadata": {
  "kernelspec": {
   "display_name": "Python 3.6.13",
   "language": "python",
   "name": "python3"
  },
  "language_info": {
   "codemirror_mode": {
    "name": "ipython",
    "version": 3
   },
   "file_extension": ".py",
   "mimetype": "text/x-python",
   "name": "python",
   "nbconvert_exporter": "python",
   "pygments_lexer": "ipython3",
   "version": "3.6.13"
  },
  "orig_nbformat": 4,
  "vscode": {
   "interpreter": {
    "hash": "d5acf0f622c40394d21d2c0770201564bbbf7e98418870ee73c827488765a9be"
   }
  }
 },
 "nbformat": 4,
 "nbformat_minor": 2
}
